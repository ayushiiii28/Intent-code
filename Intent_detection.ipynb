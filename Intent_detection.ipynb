{
  "nbformat": 4,
  "nbformat_minor": 0,
  "metadata": {
    "colab": {
      "provenance": [],
      "authorship_tag": "ABX9TyO9KksCD/bZyhkDE4UZqYXn",
      "include_colab_link": true
    },
    "kernelspec": {
      "name": "python3",
      "display_name": "Python 3"
    },
    "language_info": {
      "name": "python"
    },
    "widgets": {
      "application/vnd.jupyter.widget-state+json": {
        "c66c0aa933f741899ebf4315a7de9480": {
          "model_module": "@jupyter-widgets/controls",
          "model_name": "HBoxModel",
          "model_module_version": "1.5.0",
          "state": {
            "_dom_classes": [],
            "_model_module": "@jupyter-widgets/controls",
            "_model_module_version": "1.5.0",
            "_model_name": "HBoxModel",
            "_view_count": null,
            "_view_module": "@jupyter-widgets/controls",
            "_view_module_version": "1.5.0",
            "_view_name": "HBoxView",
            "box_style": "",
            "children": [
              "IPY_MODEL_e12fa8ee4d11481383fe65f674bdd7a9",
              "IPY_MODEL_9a633c022e7e48ccbad6c7fc3a403be6",
              "IPY_MODEL_2fc2e86985b445609d1cd413b9a09d15"
            ],
            "layout": "IPY_MODEL_4b0330a659fc453789573843633231c0"
          }
        },
        "e12fa8ee4d11481383fe65f674bdd7a9": {
          "model_module": "@jupyter-widgets/controls",
          "model_name": "HTMLModel",
          "model_module_version": "1.5.0",
          "state": {
            "_dom_classes": [],
            "_model_module": "@jupyter-widgets/controls",
            "_model_module_version": "1.5.0",
            "_model_name": "HTMLModel",
            "_view_count": null,
            "_view_module": "@jupyter-widgets/controls",
            "_view_module_version": "1.5.0",
            "_view_name": "HTMLView",
            "description": "",
            "description_tooltip": null,
            "layout": "IPY_MODEL_2dc76065c6b8449fb46ec104fe99915e",
            "placeholder": "​",
            "style": "IPY_MODEL_2a60be44b9b3480bae4566a2cc0fa1c1",
            "value": "Batches: 100%"
          }
        },
        "9a633c022e7e48ccbad6c7fc3a403be6": {
          "model_module": "@jupyter-widgets/controls",
          "model_name": "FloatProgressModel",
          "model_module_version": "1.5.0",
          "state": {
            "_dom_classes": [],
            "_model_module": "@jupyter-widgets/controls",
            "_model_module_version": "1.5.0",
            "_model_name": "FloatProgressModel",
            "_view_count": null,
            "_view_module": "@jupyter-widgets/controls",
            "_view_module_version": "1.5.0",
            "_view_name": "ProgressView",
            "bar_style": "success",
            "description": "",
            "description_tooltip": null,
            "layout": "IPY_MODEL_19c8faabbeb14411bdec1a4d2430aac1",
            "max": 11,
            "min": 0,
            "orientation": "horizontal",
            "style": "IPY_MODEL_4135e025948b40e3910929f3b6cb52fe",
            "value": 11
          }
        },
        "2fc2e86985b445609d1cd413b9a09d15": {
          "model_module": "@jupyter-widgets/controls",
          "model_name": "HTMLModel",
          "model_module_version": "1.5.0",
          "state": {
            "_dom_classes": [],
            "_model_module": "@jupyter-widgets/controls",
            "_model_module_version": "1.5.0",
            "_model_name": "HTMLModel",
            "_view_count": null,
            "_view_module": "@jupyter-widgets/controls",
            "_view_module_version": "1.5.0",
            "_view_name": "HTMLView",
            "description": "",
            "description_tooltip": null,
            "layout": "IPY_MODEL_50046e0c8f7d4bc9b2c537bf6b31dca3",
            "placeholder": "​",
            "style": "IPY_MODEL_8caed489108448a387a38cf673eceb15",
            "value": " 11/11 [00:01&lt;00:00,  8.21it/s]"
          }
        },
        "4b0330a659fc453789573843633231c0": {
          "model_module": "@jupyter-widgets/base",
          "model_name": "LayoutModel",
          "model_module_version": "1.2.0",
          "state": {
            "_model_module": "@jupyter-widgets/base",
            "_model_module_version": "1.2.0",
            "_model_name": "LayoutModel",
            "_view_count": null,
            "_view_module": "@jupyter-widgets/base",
            "_view_module_version": "1.2.0",
            "_view_name": "LayoutView",
            "align_content": null,
            "align_items": null,
            "align_self": null,
            "border": null,
            "bottom": null,
            "display": null,
            "flex": null,
            "flex_flow": null,
            "grid_area": null,
            "grid_auto_columns": null,
            "grid_auto_flow": null,
            "grid_auto_rows": null,
            "grid_column": null,
            "grid_gap": null,
            "grid_row": null,
            "grid_template_areas": null,
            "grid_template_columns": null,
            "grid_template_rows": null,
            "height": null,
            "justify_content": null,
            "justify_items": null,
            "left": null,
            "margin": null,
            "max_height": null,
            "max_width": null,
            "min_height": null,
            "min_width": null,
            "object_fit": null,
            "object_position": null,
            "order": null,
            "overflow": null,
            "overflow_x": null,
            "overflow_y": null,
            "padding": null,
            "right": null,
            "top": null,
            "visibility": null,
            "width": null
          }
        },
        "2dc76065c6b8449fb46ec104fe99915e": {
          "model_module": "@jupyter-widgets/base",
          "model_name": "LayoutModel",
          "model_module_version": "1.2.0",
          "state": {
            "_model_module": "@jupyter-widgets/base",
            "_model_module_version": "1.2.0",
            "_model_name": "LayoutModel",
            "_view_count": null,
            "_view_module": "@jupyter-widgets/base",
            "_view_module_version": "1.2.0",
            "_view_name": "LayoutView",
            "align_content": null,
            "align_items": null,
            "align_self": null,
            "border": null,
            "bottom": null,
            "display": null,
            "flex": null,
            "flex_flow": null,
            "grid_area": null,
            "grid_auto_columns": null,
            "grid_auto_flow": null,
            "grid_auto_rows": null,
            "grid_column": null,
            "grid_gap": null,
            "grid_row": null,
            "grid_template_areas": null,
            "grid_template_columns": null,
            "grid_template_rows": null,
            "height": null,
            "justify_content": null,
            "justify_items": null,
            "left": null,
            "margin": null,
            "max_height": null,
            "max_width": null,
            "min_height": null,
            "min_width": null,
            "object_fit": null,
            "object_position": null,
            "order": null,
            "overflow": null,
            "overflow_x": null,
            "overflow_y": null,
            "padding": null,
            "right": null,
            "top": null,
            "visibility": null,
            "width": null
          }
        },
        "2a60be44b9b3480bae4566a2cc0fa1c1": {
          "model_module": "@jupyter-widgets/controls",
          "model_name": "DescriptionStyleModel",
          "model_module_version": "1.5.0",
          "state": {
            "_model_module": "@jupyter-widgets/controls",
            "_model_module_version": "1.5.0",
            "_model_name": "DescriptionStyleModel",
            "_view_count": null,
            "_view_module": "@jupyter-widgets/base",
            "_view_module_version": "1.2.0",
            "_view_name": "StyleView",
            "description_width": ""
          }
        },
        "19c8faabbeb14411bdec1a4d2430aac1": {
          "model_module": "@jupyter-widgets/base",
          "model_name": "LayoutModel",
          "model_module_version": "1.2.0",
          "state": {
            "_model_module": "@jupyter-widgets/base",
            "_model_module_version": "1.2.0",
            "_model_name": "LayoutModel",
            "_view_count": null,
            "_view_module": "@jupyter-widgets/base",
            "_view_module_version": "1.2.0",
            "_view_name": "LayoutView",
            "align_content": null,
            "align_items": null,
            "align_self": null,
            "border": null,
            "bottom": null,
            "display": null,
            "flex": null,
            "flex_flow": null,
            "grid_area": null,
            "grid_auto_columns": null,
            "grid_auto_flow": null,
            "grid_auto_rows": null,
            "grid_column": null,
            "grid_gap": null,
            "grid_row": null,
            "grid_template_areas": null,
            "grid_template_columns": null,
            "grid_template_rows": null,
            "height": null,
            "justify_content": null,
            "justify_items": null,
            "left": null,
            "margin": null,
            "max_height": null,
            "max_width": null,
            "min_height": null,
            "min_width": null,
            "object_fit": null,
            "object_position": null,
            "order": null,
            "overflow": null,
            "overflow_x": null,
            "overflow_y": null,
            "padding": null,
            "right": null,
            "top": null,
            "visibility": null,
            "width": null
          }
        },
        "4135e025948b40e3910929f3b6cb52fe": {
          "model_module": "@jupyter-widgets/controls",
          "model_name": "ProgressStyleModel",
          "model_module_version": "1.5.0",
          "state": {
            "_model_module": "@jupyter-widgets/controls",
            "_model_module_version": "1.5.0",
            "_model_name": "ProgressStyleModel",
            "_view_count": null,
            "_view_module": "@jupyter-widgets/base",
            "_view_module_version": "1.2.0",
            "_view_name": "StyleView",
            "bar_color": null,
            "description_width": ""
          }
        },
        "50046e0c8f7d4bc9b2c537bf6b31dca3": {
          "model_module": "@jupyter-widgets/base",
          "model_name": "LayoutModel",
          "model_module_version": "1.2.0",
          "state": {
            "_model_module": "@jupyter-widgets/base",
            "_model_module_version": "1.2.0",
            "_model_name": "LayoutModel",
            "_view_count": null,
            "_view_module": "@jupyter-widgets/base",
            "_view_module_version": "1.2.0",
            "_view_name": "LayoutView",
            "align_content": null,
            "align_items": null,
            "align_self": null,
            "border": null,
            "bottom": null,
            "display": null,
            "flex": null,
            "flex_flow": null,
            "grid_area": null,
            "grid_auto_columns": null,
            "grid_auto_flow": null,
            "grid_auto_rows": null,
            "grid_column": null,
            "grid_gap": null,
            "grid_row": null,
            "grid_template_areas": null,
            "grid_template_columns": null,
            "grid_template_rows": null,
            "height": null,
            "justify_content": null,
            "justify_items": null,
            "left": null,
            "margin": null,
            "max_height": null,
            "max_width": null,
            "min_height": null,
            "min_width": null,
            "object_fit": null,
            "object_position": null,
            "order": null,
            "overflow": null,
            "overflow_x": null,
            "overflow_y": null,
            "padding": null,
            "right": null,
            "top": null,
            "visibility": null,
            "width": null
          }
        },
        "8caed489108448a387a38cf673eceb15": {
          "model_module": "@jupyter-widgets/controls",
          "model_name": "DescriptionStyleModel",
          "model_module_version": "1.5.0",
          "state": {
            "_model_module": "@jupyter-widgets/controls",
            "_model_module_version": "1.5.0",
            "_model_name": "DescriptionStyleModel",
            "_view_count": null,
            "_view_module": "@jupyter-widgets/base",
            "_view_module_version": "1.2.0",
            "_view_name": "StyleView",
            "description_width": ""
          }
        },
        "7e633da2ddd24d9284973a5b53c0f0d4": {
          "model_module": "@jupyter-widgets/controls",
          "model_name": "HBoxModel",
          "model_module_version": "1.5.0",
          "state": {
            "_dom_classes": [],
            "_model_module": "@jupyter-widgets/controls",
            "_model_module_version": "1.5.0",
            "_model_name": "HBoxModel",
            "_view_count": null,
            "_view_module": "@jupyter-widgets/controls",
            "_view_module_version": "1.5.0",
            "_view_name": "HBoxView",
            "box_style": "",
            "children": [
              "IPY_MODEL_793385dbbda8427b8e1a1f8687931e87",
              "IPY_MODEL_40e72b61e9e049a2beaf83ef9a3074e8",
              "IPY_MODEL_d28b109fe1ec44e4a195f8828d8cc153"
            ],
            "layout": "IPY_MODEL_0e256a91039a439b866ca9465654b4f7"
          }
        },
        "793385dbbda8427b8e1a1f8687931e87": {
          "model_module": "@jupyter-widgets/controls",
          "model_name": "HTMLModel",
          "model_module_version": "1.5.0",
          "state": {
            "_dom_classes": [],
            "_model_module": "@jupyter-widgets/controls",
            "_model_module_version": "1.5.0",
            "_model_name": "HTMLModel",
            "_view_count": null,
            "_view_module": "@jupyter-widgets/controls",
            "_view_module_version": "1.5.0",
            "_view_name": "HTMLView",
            "description": "",
            "description_tooltip": null,
            "layout": "IPY_MODEL_d2da657f809e4746b65af5068c27e288",
            "placeholder": "​",
            "style": "IPY_MODEL_30d4af4fe3ea41629c0620a086499ee0",
            "value": "Batches: 100%"
          }
        },
        "40e72b61e9e049a2beaf83ef9a3074e8": {
          "model_module": "@jupyter-widgets/controls",
          "model_name": "FloatProgressModel",
          "model_module_version": "1.5.0",
          "state": {
            "_dom_classes": [],
            "_model_module": "@jupyter-widgets/controls",
            "_model_module_version": "1.5.0",
            "_model_name": "FloatProgressModel",
            "_view_count": null,
            "_view_module": "@jupyter-widgets/controls",
            "_view_module_version": "1.5.0",
            "_view_name": "ProgressView",
            "bar_style": "success",
            "description": "",
            "description_tooltip": null,
            "layout": "IPY_MODEL_6fb5e7fc07324fb7b3de3ca6900471b9",
            "max": 2,
            "min": 0,
            "orientation": "horizontal",
            "style": "IPY_MODEL_64962f956d354f73b5a8c51108c95ffe",
            "value": 2
          }
        },
        "d28b109fe1ec44e4a195f8828d8cc153": {
          "model_module": "@jupyter-widgets/controls",
          "model_name": "HTMLModel",
          "model_module_version": "1.5.0",
          "state": {
            "_dom_classes": [],
            "_model_module": "@jupyter-widgets/controls",
            "_model_module_version": "1.5.0",
            "_model_name": "HTMLModel",
            "_view_count": null,
            "_view_module": "@jupyter-widgets/controls",
            "_view_module_version": "1.5.0",
            "_view_name": "HTMLView",
            "description": "",
            "description_tooltip": null,
            "layout": "IPY_MODEL_033e3a127bac4c549ea8d7318f99ec26",
            "placeholder": "​",
            "style": "IPY_MODEL_fcc3f4f63cf54890ba8b33055f2b93ee",
            "value": " 2/2 [00:00&lt;00:00,  4.07it/s]"
          }
        },
        "0e256a91039a439b866ca9465654b4f7": {
          "model_module": "@jupyter-widgets/base",
          "model_name": "LayoutModel",
          "model_module_version": "1.2.0",
          "state": {
            "_model_module": "@jupyter-widgets/base",
            "_model_module_version": "1.2.0",
            "_model_name": "LayoutModel",
            "_view_count": null,
            "_view_module": "@jupyter-widgets/base",
            "_view_module_version": "1.2.0",
            "_view_name": "LayoutView",
            "align_content": null,
            "align_items": null,
            "align_self": null,
            "border": null,
            "bottom": null,
            "display": null,
            "flex": null,
            "flex_flow": null,
            "grid_area": null,
            "grid_auto_columns": null,
            "grid_auto_flow": null,
            "grid_auto_rows": null,
            "grid_column": null,
            "grid_gap": null,
            "grid_row": null,
            "grid_template_areas": null,
            "grid_template_columns": null,
            "grid_template_rows": null,
            "height": null,
            "justify_content": null,
            "justify_items": null,
            "left": null,
            "margin": null,
            "max_height": null,
            "max_width": null,
            "min_height": null,
            "min_width": null,
            "object_fit": null,
            "object_position": null,
            "order": null,
            "overflow": null,
            "overflow_x": null,
            "overflow_y": null,
            "padding": null,
            "right": null,
            "top": null,
            "visibility": null,
            "width": null
          }
        },
        "d2da657f809e4746b65af5068c27e288": {
          "model_module": "@jupyter-widgets/base",
          "model_name": "LayoutModel",
          "model_module_version": "1.2.0",
          "state": {
            "_model_module": "@jupyter-widgets/base",
            "_model_module_version": "1.2.0",
            "_model_name": "LayoutModel",
            "_view_count": null,
            "_view_module": "@jupyter-widgets/base",
            "_view_module_version": "1.2.0",
            "_view_name": "LayoutView",
            "align_content": null,
            "align_items": null,
            "align_self": null,
            "border": null,
            "bottom": null,
            "display": null,
            "flex": null,
            "flex_flow": null,
            "grid_area": null,
            "grid_auto_columns": null,
            "grid_auto_flow": null,
            "grid_auto_rows": null,
            "grid_column": null,
            "grid_gap": null,
            "grid_row": null,
            "grid_template_areas": null,
            "grid_template_columns": null,
            "grid_template_rows": null,
            "height": null,
            "justify_content": null,
            "justify_items": null,
            "left": null,
            "margin": null,
            "max_height": null,
            "max_width": null,
            "min_height": null,
            "min_width": null,
            "object_fit": null,
            "object_position": null,
            "order": null,
            "overflow": null,
            "overflow_x": null,
            "overflow_y": null,
            "padding": null,
            "right": null,
            "top": null,
            "visibility": null,
            "width": null
          }
        },
        "30d4af4fe3ea41629c0620a086499ee0": {
          "model_module": "@jupyter-widgets/controls",
          "model_name": "DescriptionStyleModel",
          "model_module_version": "1.5.0",
          "state": {
            "_model_module": "@jupyter-widgets/controls",
            "_model_module_version": "1.5.0",
            "_model_name": "DescriptionStyleModel",
            "_view_count": null,
            "_view_module": "@jupyter-widgets/base",
            "_view_module_version": "1.2.0",
            "_view_name": "StyleView",
            "description_width": ""
          }
        },
        "6fb5e7fc07324fb7b3de3ca6900471b9": {
          "model_module": "@jupyter-widgets/base",
          "model_name": "LayoutModel",
          "model_module_version": "1.2.0",
          "state": {
            "_model_module": "@jupyter-widgets/base",
            "_model_module_version": "1.2.0",
            "_model_name": "LayoutModel",
            "_view_count": null,
            "_view_module": "@jupyter-widgets/base",
            "_view_module_version": "1.2.0",
            "_view_name": "LayoutView",
            "align_content": null,
            "align_items": null,
            "align_self": null,
            "border": null,
            "bottom": null,
            "display": null,
            "flex": null,
            "flex_flow": null,
            "grid_area": null,
            "grid_auto_columns": null,
            "grid_auto_flow": null,
            "grid_auto_rows": null,
            "grid_column": null,
            "grid_gap": null,
            "grid_row": null,
            "grid_template_areas": null,
            "grid_template_columns": null,
            "grid_template_rows": null,
            "height": null,
            "justify_content": null,
            "justify_items": null,
            "left": null,
            "margin": null,
            "max_height": null,
            "max_width": null,
            "min_height": null,
            "min_width": null,
            "object_fit": null,
            "object_position": null,
            "order": null,
            "overflow": null,
            "overflow_x": null,
            "overflow_y": null,
            "padding": null,
            "right": null,
            "top": null,
            "visibility": null,
            "width": null
          }
        },
        "64962f956d354f73b5a8c51108c95ffe": {
          "model_module": "@jupyter-widgets/controls",
          "model_name": "ProgressStyleModel",
          "model_module_version": "1.5.0",
          "state": {
            "_model_module": "@jupyter-widgets/controls",
            "_model_module_version": "1.5.0",
            "_model_name": "ProgressStyleModel",
            "_view_count": null,
            "_view_module": "@jupyter-widgets/base",
            "_view_module_version": "1.2.0",
            "_view_name": "StyleView",
            "bar_color": null,
            "description_width": ""
          }
        },
        "033e3a127bac4c549ea8d7318f99ec26": {
          "model_module": "@jupyter-widgets/base",
          "model_name": "LayoutModel",
          "model_module_version": "1.2.0",
          "state": {
            "_model_module": "@jupyter-widgets/base",
            "_model_module_version": "1.2.0",
            "_model_name": "LayoutModel",
            "_view_count": null,
            "_view_module": "@jupyter-widgets/base",
            "_view_module_version": "1.2.0",
            "_view_name": "LayoutView",
            "align_content": null,
            "align_items": null,
            "align_self": null,
            "border": null,
            "bottom": null,
            "display": null,
            "flex": null,
            "flex_flow": null,
            "grid_area": null,
            "grid_auto_columns": null,
            "grid_auto_flow": null,
            "grid_auto_rows": null,
            "grid_column": null,
            "grid_gap": null,
            "grid_row": null,
            "grid_template_areas": null,
            "grid_template_columns": null,
            "grid_template_rows": null,
            "height": null,
            "justify_content": null,
            "justify_items": null,
            "left": null,
            "margin": null,
            "max_height": null,
            "max_width": null,
            "min_height": null,
            "min_width": null,
            "object_fit": null,
            "object_position": null,
            "order": null,
            "overflow": null,
            "overflow_x": null,
            "overflow_y": null,
            "padding": null,
            "right": null,
            "top": null,
            "visibility": null,
            "width": null
          }
        },
        "fcc3f4f63cf54890ba8b33055f2b93ee": {
          "model_module": "@jupyter-widgets/controls",
          "model_name": "DescriptionStyleModel",
          "model_module_version": "1.5.0",
          "state": {
            "_model_module": "@jupyter-widgets/controls",
            "_model_module_version": "1.5.0",
            "_model_name": "DescriptionStyleModel",
            "_view_count": null,
            "_view_module": "@jupyter-widgets/base",
            "_view_module_version": "1.2.0",
            "_view_name": "StyleView",
            "description_width": ""
          }
        },
        "3721f4aa8320422fa13cac718caae31b": {
          "model_module": "@jupyter-widgets/controls",
          "model_name": "HBoxModel",
          "model_module_version": "1.5.0",
          "state": {
            "_dom_classes": [],
            "_model_module": "@jupyter-widgets/controls",
            "_model_module_version": "1.5.0",
            "_model_name": "HBoxModel",
            "_view_count": null,
            "_view_module": "@jupyter-widgets/controls",
            "_view_module_version": "1.5.0",
            "_view_name": "HBoxView",
            "box_style": "",
            "children": [
              "IPY_MODEL_676df4e06150412b88de17851b3d005b",
              "IPY_MODEL_2d6d0d6bf40d434c9e70cd251bb0a13d",
              "IPY_MODEL_6869d8b89492435695092aa3e7a47255"
            ],
            "layout": "IPY_MODEL_5f66e54bac9142c9b7d09a9dcd0fee0b"
          }
        },
        "676df4e06150412b88de17851b3d005b": {
          "model_module": "@jupyter-widgets/controls",
          "model_name": "HTMLModel",
          "model_module_version": "1.5.0",
          "state": {
            "_dom_classes": [],
            "_model_module": "@jupyter-widgets/controls",
            "_model_module_version": "1.5.0",
            "_model_name": "HTMLModel",
            "_view_count": null,
            "_view_module": "@jupyter-widgets/controls",
            "_view_module_version": "1.5.0",
            "_view_name": "HTMLView",
            "description": "",
            "description_tooltip": null,
            "layout": "IPY_MODEL_2342a91237b34947b60f537bf80d518e",
            "placeholder": "​",
            "style": "IPY_MODEL_ce1359d1951e4afc8ccd33cc13dbab53",
            "value": "Batches: 100%"
          }
        },
        "2d6d0d6bf40d434c9e70cd251bb0a13d": {
          "model_module": "@jupyter-widgets/controls",
          "model_name": "FloatProgressModel",
          "model_module_version": "1.5.0",
          "state": {
            "_dom_classes": [],
            "_model_module": "@jupyter-widgets/controls",
            "_model_module_version": "1.5.0",
            "_model_name": "FloatProgressModel",
            "_view_count": null,
            "_view_module": "@jupyter-widgets/controls",
            "_view_module_version": "1.5.0",
            "_view_name": "ProgressView",
            "bar_style": "success",
            "description": "",
            "description_tooltip": null,
            "layout": "IPY_MODEL_70fd4254986d43d386e559a5ca450c28",
            "max": 1,
            "min": 0,
            "orientation": "horizontal",
            "style": "IPY_MODEL_64f18684162945d8a31753c0965433a3",
            "value": 1
          }
        },
        "6869d8b89492435695092aa3e7a47255": {
          "model_module": "@jupyter-widgets/controls",
          "model_name": "HTMLModel",
          "model_module_version": "1.5.0",
          "state": {
            "_dom_classes": [],
            "_model_module": "@jupyter-widgets/controls",
            "_model_module_version": "1.5.0",
            "_model_name": "HTMLModel",
            "_view_count": null,
            "_view_module": "@jupyter-widgets/controls",
            "_view_module_version": "1.5.0",
            "_view_name": "HTMLView",
            "description": "",
            "description_tooltip": null,
            "layout": "IPY_MODEL_383fa50383c542e586ef723c1507b3c0",
            "placeholder": "​",
            "style": "IPY_MODEL_685799794e5b40ff854b3e28f7303e7a",
            "value": " 1/1 [00:00&lt;00:00, 13.73it/s]"
          }
        },
        "5f66e54bac9142c9b7d09a9dcd0fee0b": {
          "model_module": "@jupyter-widgets/base",
          "model_name": "LayoutModel",
          "model_module_version": "1.2.0",
          "state": {
            "_model_module": "@jupyter-widgets/base",
            "_model_module_version": "1.2.0",
            "_model_name": "LayoutModel",
            "_view_count": null,
            "_view_module": "@jupyter-widgets/base",
            "_view_module_version": "1.2.0",
            "_view_name": "LayoutView",
            "align_content": null,
            "align_items": null,
            "align_self": null,
            "border": null,
            "bottom": null,
            "display": null,
            "flex": null,
            "flex_flow": null,
            "grid_area": null,
            "grid_auto_columns": null,
            "grid_auto_flow": null,
            "grid_auto_rows": null,
            "grid_column": null,
            "grid_gap": null,
            "grid_row": null,
            "grid_template_areas": null,
            "grid_template_columns": null,
            "grid_template_rows": null,
            "height": null,
            "justify_content": null,
            "justify_items": null,
            "left": null,
            "margin": null,
            "max_height": null,
            "max_width": null,
            "min_height": null,
            "min_width": null,
            "object_fit": null,
            "object_position": null,
            "order": null,
            "overflow": null,
            "overflow_x": null,
            "overflow_y": null,
            "padding": null,
            "right": null,
            "top": null,
            "visibility": null,
            "width": null
          }
        },
        "2342a91237b34947b60f537bf80d518e": {
          "model_module": "@jupyter-widgets/base",
          "model_name": "LayoutModel",
          "model_module_version": "1.2.0",
          "state": {
            "_model_module": "@jupyter-widgets/base",
            "_model_module_version": "1.2.0",
            "_model_name": "LayoutModel",
            "_view_count": null,
            "_view_module": "@jupyter-widgets/base",
            "_view_module_version": "1.2.0",
            "_view_name": "LayoutView",
            "align_content": null,
            "align_items": null,
            "align_self": null,
            "border": null,
            "bottom": null,
            "display": null,
            "flex": null,
            "flex_flow": null,
            "grid_area": null,
            "grid_auto_columns": null,
            "grid_auto_flow": null,
            "grid_auto_rows": null,
            "grid_column": null,
            "grid_gap": null,
            "grid_row": null,
            "grid_template_areas": null,
            "grid_template_columns": null,
            "grid_template_rows": null,
            "height": null,
            "justify_content": null,
            "justify_items": null,
            "left": null,
            "margin": null,
            "max_height": null,
            "max_width": null,
            "min_height": null,
            "min_width": null,
            "object_fit": null,
            "object_position": null,
            "order": null,
            "overflow": null,
            "overflow_x": null,
            "overflow_y": null,
            "padding": null,
            "right": null,
            "top": null,
            "visibility": null,
            "width": null
          }
        },
        "ce1359d1951e4afc8ccd33cc13dbab53": {
          "model_module": "@jupyter-widgets/controls",
          "model_name": "DescriptionStyleModel",
          "model_module_version": "1.5.0",
          "state": {
            "_model_module": "@jupyter-widgets/controls",
            "_model_module_version": "1.5.0",
            "_model_name": "DescriptionStyleModel",
            "_view_count": null,
            "_view_module": "@jupyter-widgets/base",
            "_view_module_version": "1.2.0",
            "_view_name": "StyleView",
            "description_width": ""
          }
        },
        "70fd4254986d43d386e559a5ca450c28": {
          "model_module": "@jupyter-widgets/base",
          "model_name": "LayoutModel",
          "model_module_version": "1.2.0",
          "state": {
            "_model_module": "@jupyter-widgets/base",
            "_model_module_version": "1.2.0",
            "_model_name": "LayoutModel",
            "_view_count": null,
            "_view_module": "@jupyter-widgets/base",
            "_view_module_version": "1.2.0",
            "_view_name": "LayoutView",
            "align_content": null,
            "align_items": null,
            "align_self": null,
            "border": null,
            "bottom": null,
            "display": null,
            "flex": null,
            "flex_flow": null,
            "grid_area": null,
            "grid_auto_columns": null,
            "grid_auto_flow": null,
            "grid_auto_rows": null,
            "grid_column": null,
            "grid_gap": null,
            "grid_row": null,
            "grid_template_areas": null,
            "grid_template_columns": null,
            "grid_template_rows": null,
            "height": null,
            "justify_content": null,
            "justify_items": null,
            "left": null,
            "margin": null,
            "max_height": null,
            "max_width": null,
            "min_height": null,
            "min_width": null,
            "object_fit": null,
            "object_position": null,
            "order": null,
            "overflow": null,
            "overflow_x": null,
            "overflow_y": null,
            "padding": null,
            "right": null,
            "top": null,
            "visibility": null,
            "width": null
          }
        },
        "64f18684162945d8a31753c0965433a3": {
          "model_module": "@jupyter-widgets/controls",
          "model_name": "ProgressStyleModel",
          "model_module_version": "1.5.0",
          "state": {
            "_model_module": "@jupyter-widgets/controls",
            "_model_module_version": "1.5.0",
            "_model_name": "ProgressStyleModel",
            "_view_count": null,
            "_view_module": "@jupyter-widgets/base",
            "_view_module_version": "1.2.0",
            "_view_name": "StyleView",
            "bar_color": null,
            "description_width": ""
          }
        },
        "383fa50383c542e586ef723c1507b3c0": {
          "model_module": "@jupyter-widgets/base",
          "model_name": "LayoutModel",
          "model_module_version": "1.2.0",
          "state": {
            "_model_module": "@jupyter-widgets/base",
            "_model_module_version": "1.2.0",
            "_model_name": "LayoutModel",
            "_view_count": null,
            "_view_module": "@jupyter-widgets/base",
            "_view_module_version": "1.2.0",
            "_view_name": "LayoutView",
            "align_content": null,
            "align_items": null,
            "align_self": null,
            "border": null,
            "bottom": null,
            "display": null,
            "flex": null,
            "flex_flow": null,
            "grid_area": null,
            "grid_auto_columns": null,
            "grid_auto_flow": null,
            "grid_auto_rows": null,
            "grid_column": null,
            "grid_gap": null,
            "grid_row": null,
            "grid_template_areas": null,
            "grid_template_columns": null,
            "grid_template_rows": null,
            "height": null,
            "justify_content": null,
            "justify_items": null,
            "left": null,
            "margin": null,
            "max_height": null,
            "max_width": null,
            "min_height": null,
            "min_width": null,
            "object_fit": null,
            "object_position": null,
            "order": null,
            "overflow": null,
            "overflow_x": null,
            "overflow_y": null,
            "padding": null,
            "right": null,
            "top": null,
            "visibility": null,
            "width": null
          }
        },
        "685799794e5b40ff854b3e28f7303e7a": {
          "model_module": "@jupyter-widgets/controls",
          "model_name": "DescriptionStyleModel",
          "model_module_version": "1.5.0",
          "state": {
            "_model_module": "@jupyter-widgets/controls",
            "_model_module_version": "1.5.0",
            "_model_name": "DescriptionStyleModel",
            "_view_count": null,
            "_view_module": "@jupyter-widgets/base",
            "_view_module_version": "1.2.0",
            "_view_name": "StyleView",
            "description_width": ""
          }
        }
      }
    }
  },
  "cells": [
    {
      "cell_type": "markdown",
      "metadata": {
        "id": "view-in-github",
        "colab_type": "text"
      },
      "source": [
        "<a href=\"https://colab.research.google.com/github/ayushiiii28/Intent-code/blob/main/Intent_detection.ipynb\" target=\"_parent\"><img src=\"https://colab.research.google.com/assets/colab-badge.svg\" alt=\"Open In Colab\"/></a>"
      ]
    },
    {
      "cell_type": "code",
      "execution_count": null,
      "metadata": {
        "colab": {
          "base_uri": "https://localhost:8080/"
        },
        "id": "8lQXf07WwsXm",
        "outputId": "df8e912a-892c-4058-ca9b-9714ecd7c60e"
      },
      "outputs": [
        {
          "output_type": "stream",
          "name": "stdout",
          "text": [
            "Silhouette Score: 0.12987850349504101\n",
            "Clustered data saved to 'intent_clusters_output.csv'\n"
          ]
        }
      ],
      "source": [
        "# Step 1: Import required libraries\n",
        "import pandas as pd\n",
        "from sklearn.feature_extraction.text import TfidfVectorizer\n",
        "from sklearn.cluster import KMeans\n",
        "from sklearn.metrics import silhouette_score\n",
        "\n",
        "# Step 2: Load the dataset\n",
        "df = pd.read_csv(\"/content/data.csv\")  # replace with your path if needed\n",
        "\n",
        "# Step 3: Text Vectorization using TF-IDF\n",
        "tfidf = TfidfVectorizer(stop_words='english', max_df=0.9, min_df=2)\n",
        "X_tfidf = tfidf.fit_transform(df['sentence'])\n",
        "\n",
        "# Step 4: Clustering using KMeans\n",
        "kmeans = KMeans(n_clusters=10, random_state=42)\n",
        "clusters = kmeans.fit_predict(X_tfidf)\n",
        "\n",
        "# Step 5: Add the predicted cluster labels to the DataFrame\n",
        "df['cluster_label'] = clusters\n",
        "\n",
        "# Step 6: Evaluate clustering performance (optional)\n",
        "sil_score = silhouette_score(X_tfidf, clusters)\n",
        "print(\"Silhouette Score:\", sil_score)\n",
        "\n",
        "# Step 7: Save results to CSV\n",
        "df.to_csv(\"intent_clusters_output.csv\", index=False)\n",
        "print(\"Clustered data saved to 'intent_clusters_output.csv'\")\n"
      ]
    },
    {
      "cell_type": "code",
      "source": [
        "import pandas as pd\n",
        "\n",
        "df = pd.read_csv(\"intent_clusters_output.csv\")\n",
        "\n",
        "# View random sample from each cluster\n",
        "for label in sorted(df['cluster_label'].unique()):\n",
        "    print(f\"\\n--- Cluster {label} ---\")\n",
        "    print(df[df['cluster_label'] == label]['sentence'].sample(5).to_list())\n"
      ],
      "metadata": {
        "colab": {
          "base_uri": "https://localhost:8080/"
        },
        "id": "02CaTG6zxiKy",
        "outputId": "f5f57529-b93d-4639-eb8d-bee5aa694126"
      },
      "execution_count": null,
      "outputs": [
        {
          "output_type": "stream",
          "name": "stdout",
          "text": [
            "\n",
            "--- Cluster 0 ---\n",
            "['Will I get an option to Customise the size', 'Need some help in changing size of the mattress', 'What size to order?', 'How do I know the size of my bed?', 'Mattress size']\n",
            "\n",
            "--- Cluster 1 ---\n",
            "['Why SOF mattress', 'Can I try a mattress first', 'Tell me about SOF Mattress', 'SOF ortho', 'What are the SOF mattress products']\n",
            "\n",
            "--- Cluster 2 ---\n",
            "['Shop near by', 'Is delivery possible on this pincode', 'DO you have COD option', 'I wanna know the difference', 'Can I get free trial']\n",
            "\n",
            "--- Cluster 3 ---\n",
            "['0% EMI.', 'I need emi payment.', 'Do you accept Paisa EMI card', 'Do you offer Zero Percent EMI payment options?', 'Is EMI available']\n",
            "\n",
            "--- Cluster 4 ---\n",
            "['What are the key features of the SOF Ergo mattress', 'Ergo', 'Features of Ortho mattress', 'What are the mattress features', 'SOF ergo features']\n",
            "\n",
            "--- Cluster 5 ---\n",
            "['What is the cost', 'Custom size cost', 'Cost of Mattress', 'Mattress cost', 'Cost of mattress']\n",
            "\n",
            "--- Cluster 6 ---\n",
            "['I want to buy pillows', 'I want to buy this in installments', 'I want to buy on EMI', 'Can we buy through Paisa finance', 'Where can I see the product before I buy']\n",
            "\n",
            "--- Cluster 7 ---\n",
            "['Order Status', 'What about my order', 'Order #', 'Need to cancel my order', 'Present status']\n",
            "\n",
            "--- Cluster 8 ---\n",
            "['I want cancel my order', 'Want to know the price', 'I want refund', 'Want to get in touch', 'I want to return my mattress']\n",
            "\n",
            "--- Cluster 9 ---\n",
            "['Pillows', 'Can I buy pillows from here', 'Need pair of Pillows', 'Can I get pillows?', 'Can I also have pillows']\n"
          ]
        }
      ]
    },
    {
      "cell_type": "code",
      "source": [
        "pip install sentence-transformers\n"
      ],
      "metadata": {
        "colab": {
          "base_uri": "https://localhost:8080/"
        },
        "id": "yxbGqY9DyDF6",
        "outputId": "b2b7ff1d-433d-4b08-ad91-f878b0e3f1c3"
      },
      "execution_count": null,
      "outputs": [
        {
          "output_type": "stream",
          "name": "stdout",
          "text": [
            "Requirement already satisfied: sentence-transformers in /usr/local/lib/python3.11/dist-packages (4.1.0)\n",
            "Requirement already satisfied: transformers<5.0.0,>=4.41.0 in /usr/local/lib/python3.11/dist-packages (from sentence-transformers) (4.53.2)\n",
            "Requirement already satisfied: tqdm in /usr/local/lib/python3.11/dist-packages (from sentence-transformers) (4.67.1)\n",
            "Requirement already satisfied: torch>=1.11.0 in /usr/local/lib/python3.11/dist-packages (from sentence-transformers) (2.6.0+cu124)\n",
            "Requirement already satisfied: scikit-learn in /usr/local/lib/python3.11/dist-packages (from sentence-transformers) (1.6.1)\n",
            "Requirement already satisfied: scipy in /usr/local/lib/python3.11/dist-packages (from sentence-transformers) (1.16.0)\n",
            "Requirement already satisfied: huggingface-hub>=0.20.0 in /usr/local/lib/python3.11/dist-packages (from sentence-transformers) (0.33.4)\n",
            "Requirement already satisfied: Pillow in /usr/local/lib/python3.11/dist-packages (from sentence-transformers) (11.3.0)\n",
            "Requirement already satisfied: typing_extensions>=4.5.0 in /usr/local/lib/python3.11/dist-packages (from sentence-transformers) (4.14.1)\n",
            "Requirement already satisfied: filelock in /usr/local/lib/python3.11/dist-packages (from huggingface-hub>=0.20.0->sentence-transformers) (3.18.0)\n",
            "Requirement already satisfied: fsspec>=2023.5.0 in /usr/local/lib/python3.11/dist-packages (from huggingface-hub>=0.20.0->sentence-transformers) (2025.7.0)\n",
            "Requirement already satisfied: packaging>=20.9 in /usr/local/lib/python3.11/dist-packages (from huggingface-hub>=0.20.0->sentence-transformers) (25.0)\n",
            "Requirement already satisfied: pyyaml>=5.1 in /usr/local/lib/python3.11/dist-packages (from huggingface-hub>=0.20.0->sentence-transformers) (6.0.2)\n",
            "Requirement already satisfied: requests in /usr/local/lib/python3.11/dist-packages (from huggingface-hub>=0.20.0->sentence-transformers) (2.32.3)\n",
            "Requirement already satisfied: hf-xet<2.0.0,>=1.1.2 in /usr/local/lib/python3.11/dist-packages (from huggingface-hub>=0.20.0->sentence-transformers) (1.1.5)\n",
            "Requirement already satisfied: networkx in /usr/local/lib/python3.11/dist-packages (from torch>=1.11.0->sentence-transformers) (3.5)\n",
            "Requirement already satisfied: jinja2 in /usr/local/lib/python3.11/dist-packages (from torch>=1.11.0->sentence-transformers) (3.1.6)\n",
            "Collecting nvidia-cuda-nvrtc-cu12==12.4.127 (from torch>=1.11.0->sentence-transformers)\n",
            "  Downloading nvidia_cuda_nvrtc_cu12-12.4.127-py3-none-manylinux2014_x86_64.whl.metadata (1.5 kB)\n",
            "Collecting nvidia-cuda-runtime-cu12==12.4.127 (from torch>=1.11.0->sentence-transformers)\n",
            "  Downloading nvidia_cuda_runtime_cu12-12.4.127-py3-none-manylinux2014_x86_64.whl.metadata (1.5 kB)\n",
            "Collecting nvidia-cuda-cupti-cu12==12.4.127 (from torch>=1.11.0->sentence-transformers)\n",
            "  Downloading nvidia_cuda_cupti_cu12-12.4.127-py3-none-manylinux2014_x86_64.whl.metadata (1.6 kB)\n",
            "Collecting nvidia-cudnn-cu12==9.1.0.70 (from torch>=1.11.0->sentence-transformers)\n",
            "  Downloading nvidia_cudnn_cu12-9.1.0.70-py3-none-manylinux2014_x86_64.whl.metadata (1.6 kB)\n",
            "Collecting nvidia-cublas-cu12==12.4.5.8 (from torch>=1.11.0->sentence-transformers)\n",
            "  Downloading nvidia_cublas_cu12-12.4.5.8-py3-none-manylinux2014_x86_64.whl.metadata (1.5 kB)\n",
            "Collecting nvidia-cufft-cu12==11.2.1.3 (from torch>=1.11.0->sentence-transformers)\n",
            "  Downloading nvidia_cufft_cu12-11.2.1.3-py3-none-manylinux2014_x86_64.whl.metadata (1.5 kB)\n",
            "Collecting nvidia-curand-cu12==10.3.5.147 (from torch>=1.11.0->sentence-transformers)\n",
            "  Downloading nvidia_curand_cu12-10.3.5.147-py3-none-manylinux2014_x86_64.whl.metadata (1.5 kB)\n",
            "Collecting nvidia-cusolver-cu12==11.6.1.9 (from torch>=1.11.0->sentence-transformers)\n",
            "  Downloading nvidia_cusolver_cu12-11.6.1.9-py3-none-manylinux2014_x86_64.whl.metadata (1.6 kB)\n",
            "Collecting nvidia-cusparse-cu12==12.3.1.170 (from torch>=1.11.0->sentence-transformers)\n",
            "  Downloading nvidia_cusparse_cu12-12.3.1.170-py3-none-manylinux2014_x86_64.whl.metadata (1.6 kB)\n",
            "Requirement already satisfied: nvidia-cusparselt-cu12==0.6.2 in /usr/local/lib/python3.11/dist-packages (from torch>=1.11.0->sentence-transformers) (0.6.2)\n",
            "Requirement already satisfied: nvidia-nccl-cu12==2.21.5 in /usr/local/lib/python3.11/dist-packages (from torch>=1.11.0->sentence-transformers) (2.21.5)\n",
            "Requirement already satisfied: nvidia-nvtx-cu12==12.4.127 in /usr/local/lib/python3.11/dist-packages (from torch>=1.11.0->sentence-transformers) (12.4.127)\n",
            "Collecting nvidia-nvjitlink-cu12==12.4.127 (from torch>=1.11.0->sentence-transformers)\n",
            "  Downloading nvidia_nvjitlink_cu12-12.4.127-py3-none-manylinux2014_x86_64.whl.metadata (1.5 kB)\n",
            "Requirement already satisfied: triton==3.2.0 in /usr/local/lib/python3.11/dist-packages (from torch>=1.11.0->sentence-transformers) (3.2.0)\n",
            "Requirement already satisfied: sympy==1.13.1 in /usr/local/lib/python3.11/dist-packages (from torch>=1.11.0->sentence-transformers) (1.13.1)\n",
            "Requirement already satisfied: mpmath<1.4,>=1.1.0 in /usr/local/lib/python3.11/dist-packages (from sympy==1.13.1->torch>=1.11.0->sentence-transformers) (1.3.0)\n",
            "Requirement already satisfied: numpy>=1.17 in /usr/local/lib/python3.11/dist-packages (from transformers<5.0.0,>=4.41.0->sentence-transformers) (2.0.2)\n",
            "Requirement already satisfied: regex!=2019.12.17 in /usr/local/lib/python3.11/dist-packages (from transformers<5.0.0,>=4.41.0->sentence-transformers) (2024.11.6)\n",
            "Requirement already satisfied: tokenizers<0.22,>=0.21 in /usr/local/lib/python3.11/dist-packages (from transformers<5.0.0,>=4.41.0->sentence-transformers) (0.21.2)\n",
            "Requirement already satisfied: safetensors>=0.4.3 in /usr/local/lib/python3.11/dist-packages (from transformers<5.0.0,>=4.41.0->sentence-transformers) (0.5.3)\n",
            "Requirement already satisfied: joblib>=1.2.0 in /usr/local/lib/python3.11/dist-packages (from scikit-learn->sentence-transformers) (1.5.1)\n",
            "Requirement already satisfied: threadpoolctl>=3.1.0 in /usr/local/lib/python3.11/dist-packages (from scikit-learn->sentence-transformers) (3.6.0)\n",
            "Requirement already satisfied: MarkupSafe>=2.0 in /usr/local/lib/python3.11/dist-packages (from jinja2->torch>=1.11.0->sentence-transformers) (3.0.2)\n",
            "Requirement already satisfied: charset-normalizer<4,>=2 in /usr/local/lib/python3.11/dist-packages (from requests->huggingface-hub>=0.20.0->sentence-transformers) (3.4.2)\n",
            "Requirement already satisfied: idna<4,>=2.5 in /usr/local/lib/python3.11/dist-packages (from requests->huggingface-hub>=0.20.0->sentence-transformers) (3.10)\n",
            "Requirement already satisfied: urllib3<3,>=1.21.1 in /usr/local/lib/python3.11/dist-packages (from requests->huggingface-hub>=0.20.0->sentence-transformers) (2.5.0)\n",
            "Requirement already satisfied: certifi>=2017.4.17 in /usr/local/lib/python3.11/dist-packages (from requests->huggingface-hub>=0.20.0->sentence-transformers) (2025.7.14)\n",
            "Downloading nvidia_cublas_cu12-12.4.5.8-py3-none-manylinux2014_x86_64.whl (363.4 MB)\n",
            "\u001b[2K   \u001b[90m━━━━━━━━━━━━━━━━━━━━━━━━━━━━━━━━━━━━━━━━\u001b[0m \u001b[32m363.4/363.4 MB\u001b[0m \u001b[31m4.3 MB/s\u001b[0m eta \u001b[36m0:00:00\u001b[0m\n",
            "\u001b[?25hDownloading nvidia_cuda_cupti_cu12-12.4.127-py3-none-manylinux2014_x86_64.whl (13.8 MB)\n",
            "\u001b[2K   \u001b[90m━━━━━━━━━━━━━━━━━━━━━━━━━━━━━━━━━━━━━━━━\u001b[0m \u001b[32m13.8/13.8 MB\u001b[0m \u001b[31m110.9 MB/s\u001b[0m eta \u001b[36m0:00:00\u001b[0m\n",
            "\u001b[?25hDownloading nvidia_cuda_nvrtc_cu12-12.4.127-py3-none-manylinux2014_x86_64.whl (24.6 MB)\n",
            "\u001b[2K   \u001b[90m━━━━━━━━━━━━━━━━━━━━━━━━━━━━━━━━━━━━━━━━\u001b[0m \u001b[32m24.6/24.6 MB\u001b[0m \u001b[31m85.5 MB/s\u001b[0m eta \u001b[36m0:00:00\u001b[0m\n",
            "\u001b[?25hDownloading nvidia_cuda_runtime_cu12-12.4.127-py3-none-manylinux2014_x86_64.whl (883 kB)\n",
            "\u001b[2K   \u001b[90m━━━━━━━━━━━━━━━━━━━━━━━━━━━━━━━━━━━━━━━━\u001b[0m \u001b[32m883.7/883.7 kB\u001b[0m \u001b[31m60.9 MB/s\u001b[0m eta \u001b[36m0:00:00\u001b[0m\n",
            "\u001b[?25hDownloading nvidia_cudnn_cu12-9.1.0.70-py3-none-manylinux2014_x86_64.whl (664.8 MB)\n",
            "\u001b[2K   \u001b[90m━━━━━━━━━━━━━━━━━━━━━━━━━━━━━━━━━━━━━━━━\u001b[0m \u001b[32m664.8/664.8 MB\u001b[0m \u001b[31m1.4 MB/s\u001b[0m eta \u001b[36m0:00:00\u001b[0m\n",
            "\u001b[?25hDownloading nvidia_cufft_cu12-11.2.1.3-py3-none-manylinux2014_x86_64.whl (211.5 MB)\n",
            "\u001b[2K   \u001b[90m━━━━━━━━━━━━━━━━━━━━━━━━━━━━━━━━━━━━━━━━\u001b[0m \u001b[32m211.5/211.5 MB\u001b[0m \u001b[31m5.5 MB/s\u001b[0m eta \u001b[36m0:00:00\u001b[0m\n",
            "\u001b[?25hDownloading nvidia_curand_cu12-10.3.5.147-py3-none-manylinux2014_x86_64.whl (56.3 MB)\n",
            "\u001b[2K   \u001b[90m━━━━━━━━━━━━━━━━━━━━━━━━━━━━━━━━━━━━━━━━\u001b[0m \u001b[32m56.3/56.3 MB\u001b[0m \u001b[31m11.9 MB/s\u001b[0m eta \u001b[36m0:00:00\u001b[0m\n",
            "\u001b[?25hDownloading nvidia_cusolver_cu12-11.6.1.9-py3-none-manylinux2014_x86_64.whl (127.9 MB)\n",
            "\u001b[2K   \u001b[90m━━━━━━━━━━━━━━━━━━━━━━━━━━━━━━━━━━━━━━━━\u001b[0m \u001b[32m127.9/127.9 MB\u001b[0m \u001b[31m7.2 MB/s\u001b[0m eta \u001b[36m0:00:00\u001b[0m\n",
            "\u001b[?25hDownloading nvidia_cusparse_cu12-12.3.1.170-py3-none-manylinux2014_x86_64.whl (207.5 MB)\n",
            "\u001b[2K   \u001b[90m━━━━━━━━━━━━━━━━━━━━━━━━━━━━━━━━━━━━━━━━\u001b[0m \u001b[32m207.5/207.5 MB\u001b[0m \u001b[31m5.5 MB/s\u001b[0m eta \u001b[36m0:00:00\u001b[0m\n",
            "\u001b[?25hDownloading nvidia_nvjitlink_cu12-12.4.127-py3-none-manylinux2014_x86_64.whl (21.1 MB)\n",
            "\u001b[2K   \u001b[90m━━━━━━━━━━━━━━━━━━━━━━━━━━━━━━━━━━━━━━━━\u001b[0m \u001b[32m21.1/21.1 MB\u001b[0m \u001b[31m79.8 MB/s\u001b[0m eta \u001b[36m0:00:00\u001b[0m\n",
            "\u001b[?25hInstalling collected packages: nvidia-nvjitlink-cu12, nvidia-curand-cu12, nvidia-cufft-cu12, nvidia-cuda-runtime-cu12, nvidia-cuda-nvrtc-cu12, nvidia-cuda-cupti-cu12, nvidia-cublas-cu12, nvidia-cusparse-cu12, nvidia-cudnn-cu12, nvidia-cusolver-cu12\n",
            "  Attempting uninstall: nvidia-nvjitlink-cu12\n",
            "    Found existing installation: nvidia-nvjitlink-cu12 12.5.82\n",
            "    Uninstalling nvidia-nvjitlink-cu12-12.5.82:\n",
            "      Successfully uninstalled nvidia-nvjitlink-cu12-12.5.82\n",
            "  Attempting uninstall: nvidia-curand-cu12\n",
            "    Found existing installation: nvidia-curand-cu12 10.3.6.82\n",
            "    Uninstalling nvidia-curand-cu12-10.3.6.82:\n",
            "      Successfully uninstalled nvidia-curand-cu12-10.3.6.82\n",
            "  Attempting uninstall: nvidia-cufft-cu12\n",
            "    Found existing installation: nvidia-cufft-cu12 11.2.3.61\n",
            "    Uninstalling nvidia-cufft-cu12-11.2.3.61:\n",
            "      Successfully uninstalled nvidia-cufft-cu12-11.2.3.61\n",
            "  Attempting uninstall: nvidia-cuda-runtime-cu12\n",
            "    Found existing installation: nvidia-cuda-runtime-cu12 12.5.82\n",
            "    Uninstalling nvidia-cuda-runtime-cu12-12.5.82:\n",
            "      Successfully uninstalled nvidia-cuda-runtime-cu12-12.5.82\n",
            "  Attempting uninstall: nvidia-cuda-nvrtc-cu12\n",
            "    Found existing installation: nvidia-cuda-nvrtc-cu12 12.5.82\n",
            "    Uninstalling nvidia-cuda-nvrtc-cu12-12.5.82:\n",
            "      Successfully uninstalled nvidia-cuda-nvrtc-cu12-12.5.82\n",
            "  Attempting uninstall: nvidia-cuda-cupti-cu12\n",
            "    Found existing installation: nvidia-cuda-cupti-cu12 12.5.82\n",
            "    Uninstalling nvidia-cuda-cupti-cu12-12.5.82:\n",
            "      Successfully uninstalled nvidia-cuda-cupti-cu12-12.5.82\n",
            "  Attempting uninstall: nvidia-cublas-cu12\n",
            "    Found existing installation: nvidia-cublas-cu12 12.5.3.2\n",
            "    Uninstalling nvidia-cublas-cu12-12.5.3.2:\n",
            "      Successfully uninstalled nvidia-cublas-cu12-12.5.3.2\n",
            "  Attempting uninstall: nvidia-cusparse-cu12\n",
            "    Found existing installation: nvidia-cusparse-cu12 12.5.1.3\n",
            "    Uninstalling nvidia-cusparse-cu12-12.5.1.3:\n",
            "      Successfully uninstalled nvidia-cusparse-cu12-12.5.1.3\n",
            "  Attempting uninstall: nvidia-cudnn-cu12\n",
            "    Found existing installation: nvidia-cudnn-cu12 9.3.0.75\n",
            "    Uninstalling nvidia-cudnn-cu12-9.3.0.75:\n",
            "      Successfully uninstalled nvidia-cudnn-cu12-9.3.0.75\n",
            "  Attempting uninstall: nvidia-cusolver-cu12\n",
            "    Found existing installation: nvidia-cusolver-cu12 11.6.3.83\n",
            "    Uninstalling nvidia-cusolver-cu12-11.6.3.83:\n",
            "      Successfully uninstalled nvidia-cusolver-cu12-11.6.3.83\n",
            "Successfully installed nvidia-cublas-cu12-12.4.5.8 nvidia-cuda-cupti-cu12-12.4.127 nvidia-cuda-nvrtc-cu12-12.4.127 nvidia-cuda-runtime-cu12-12.4.127 nvidia-cudnn-cu12-9.1.0.70 nvidia-cufft-cu12-11.2.1.3 nvidia-curand-cu12-10.3.5.147 nvidia-cusolver-cu12-11.6.1.9 nvidia-cusparse-cu12-12.3.1.170 nvidia-nvjitlink-cu12-12.4.127\n"
          ]
        }
      ]
    },
    {
      "cell_type": "code",
      "source": [
        "import pandas as pd\n",
        "from sentence_transformers import SentenceTransformer\n",
        "from sklearn.cluster import KMeans\n",
        "from sklearn.metrics import silhouette_score\n",
        "\n",
        "# Load data\n",
        "df = pd.read_csv(\"/content/data.csv\")  # adjust path\n",
        "\n",
        "# Load SBERT model\n",
        "model = SentenceTransformer('all-MiniLM-L6-v2')\n",
        "\n",
        "# Create sentence embeddings\n",
        "embeddings = model.encode(df['sentence'], show_progress_bar=True)\n",
        "\n",
        "# Apply KMeans\n",
        "kmeans = KMeans(n_clusters=10, random_state=42)\n",
        "sbert_clusters = kmeans.fit_predict(embeddings)\n",
        "\n",
        "# Add to DataFrame\n",
        "df['sbert_cluster'] = sbert_clusters\n",
        "\n",
        "# Evaluate\n",
        "sil_score = silhouette_score(embeddings, sbert_clusters)\n",
        "print(f\"SBERT Clustering Silhouette Score: {sil_score}\")\n",
        "\n",
        "# Save\n",
        "df.to_csv(\"sbert_clusters_output.csv\", index=False)\n"
      ],
      "metadata": {
        "colab": {
          "base_uri": "https://localhost:8080/",
          "height": 66,
          "referenced_widgets": [
            "c66c0aa933f741899ebf4315a7de9480",
            "e12fa8ee4d11481383fe65f674bdd7a9",
            "9a633c022e7e48ccbad6c7fc3a403be6",
            "2fc2e86985b445609d1cd413b9a09d15",
            "4b0330a659fc453789573843633231c0",
            "2dc76065c6b8449fb46ec104fe99915e",
            "2a60be44b9b3480bae4566a2cc0fa1c1",
            "19c8faabbeb14411bdec1a4d2430aac1",
            "4135e025948b40e3910929f3b6cb52fe",
            "50046e0c8f7d4bc9b2c537bf6b31dca3",
            "8caed489108448a387a38cf673eceb15"
          ]
        },
        "id": "zhmJlW8myHL-",
        "outputId": "d8adaeec-63ff-42b2-d149-b5b71d9eb473"
      },
      "execution_count": null,
      "outputs": [
        {
          "output_type": "display_data",
          "data": {
            "text/plain": [
              "Batches:   0%|          | 0/11 [00:00<?, ?it/s]"
            ],
            "application/vnd.jupyter.widget-view+json": {
              "version_major": 2,
              "version_minor": 0,
              "model_id": "c66c0aa933f741899ebf4315a7de9480"
            }
          },
          "metadata": {}
        },
        {
          "output_type": "stream",
          "name": "stdout",
          "text": [
            "SBERT Clustering Silhouette Score: 0.12066186219453812\n"
          ]
        }
      ]
    },
    {
      "cell_type": "code",
      "source": [
        "import pandas as pd\n",
        "from sklearn.feature_extraction.text import TfidfVectorizer\n",
        "from sklearn.cluster import KMeans\n",
        "from sklearn.metrics import silhouette_score\n",
        "from sklearn.decomposition import PCA\n",
        "import matplotlib.pyplot as plt\n",
        "import seaborn as sns\n",
        "\n",
        "from sentence_transformers import SentenceTransformer\n",
        "import numpy as np\n",
        "\n",
        "# --- Sample Data (Replace with your own) ---\n",
        "data = pd.DataFrame({\n",
        "    'text': [\n",
        "        'Custom size', 'Help me with the size chart', 'Customise size',\n",
        "        'Will I get an option to Customise the size', 'Need some help in changing size of the mattress',\n",
        "        'Can I try a mattress first', 'Tell me about SOF Ortho mattress',\n",
        "        'What are the key features of the SOF Ortho mattress', 'What is SOF mattress',\n",
        "        'How is SOF different from other mattress brands',\n",
        "        'Difference between the products', 'Arrange a call back', 'What is 100 Night trial offer',\n",
        "        'Do you have any showrooms in Delhi state', 'Interested in buying',\n",
        "        'Do you accept Paisa EMI card', 'what about emi options', 'How to get in EMI',\n",
        "        'How to EMI', 'I need emi payment.',\n",
        "        'Features of Ergo mattress', 'What is the difference between the Ergo & Ortho variants',\n",
        "        'SOF ergo features', 'What are the key features of the SOF Ergo mattress', 'Ergo features',\n",
        "        'Cost of Mattress', 'Cost', 'How Much Cost', 'Cost of Bed', 'Mattress cost',\n",
        "        'Which mattress to buy?', 'I want to buy a mattress', 'Where can I see the product before I buy',\n",
        "        'I want to buy this', 'Can we buy through Paisa finance',\n",
        "        'Process of cancelling order', 'I did not receive my order yet',\n",
        "        'Track order', 'What is my order status?', 'Status of my order',\n",
        "        'Want to know the price', 'I want in installment', 'I want it on 0% interest',\n",
        "        'Want to know the discount', 'Want to talk to an live agent',\n",
        "        'Need pair of Pillows', 'Are Pillows available', 'Is pillows available',\n",
        "        'Pillows', 'Do you sell pillows?'\n",
        "    ]\n",
        "})\n",
        "\n",
        "# --- TF-IDF + KMeans ---\n",
        "tfidf_vectorizer = TfidfVectorizer(stop_words='english', max_df=0.8, min_df=1)\n",
        "X_tfidf = tfidf_vectorizer.fit_transform(data['text'])\n",
        "\n",
        "k = 10\n",
        "kmeans_tfidf = KMeans(n_clusters=k, random_state=42)\n",
        "tfidf_labels = kmeans_tfidf.fit_predict(X_tfidf)\n",
        "\n",
        "sil_score_tfidf = silhouette_score(X_tfidf, tfidf_labels)\n",
        "print(f\"TF-IDF Clustering Silhouette Score: {sil_score_tfidf:.4f}\")\n",
        "\n",
        "# --- SBERT + KMeans ---\n",
        "model = SentenceTransformer('all-MiniLM-L6-v2')\n",
        "sbert_embeddings = model.encode(data['text'])\n",
        "\n",
        "kmeans_sbert = KMeans(n_clusters=k, random_state=42)\n",
        "sbert_labels = kmeans_sbert.fit_predict(sbert_embeddings)\n",
        "\n",
        "sil_score_sbert = silhouette_score(sbert_embeddings, sbert_labels)\n",
        "print(f\"SBERT Clustering Silhouette Score: {sil_score_sbert:.4f}\")\n",
        "\n",
        "# --- Plotting Function ---\n",
        "def plot_clusters(X, labels, title):\n",
        "    pca = PCA(n_components=2)\n",
        "    reduced = pca.fit_transform(X)\n",
        "\n",
        "    plt.figure(figsize=(8, 6))\n",
        "    sns.scatterplot(x=reduced[:, 0], y=reduced[:, 1], hue=labels, palette='tab10', s=100)\n",
        "    plt.title(title)\n",
        "    plt.xlabel(\"PCA Component 1\")\n",
        "    plt.ylabel(\"PCA Component 2\")\n",
        "    plt.legend(title=\"Cluster\")\n",
        "    plt.grid(True)\n",
        "    plt.show()\n",
        "\n",
        "# --- Visualize ---\n",
        "plot_clusters(X_tfidf.toarray(), tfidf_labels, \"TF-IDF + KMeans Clusters\")\n",
        "plot_clusters(sbert_embeddings, sbert_labels, \"SBERT + KMeans Clusters\")\n"
      ],
      "metadata": {
        "colab": {
          "base_uri": "https://localhost:8080/",
          "height": 1000
        },
        "id": "4jovB7-Py_VF",
        "outputId": "ee22ba4e-1d52-4436-f959-8d1a55ad22c9"
      },
      "execution_count": null,
      "outputs": [
        {
          "output_type": "stream",
          "name": "stdout",
          "text": [
            "TF-IDF Clustering Silhouette Score: 0.2064\n",
            "SBERT Clustering Silhouette Score: 0.1954\n"
          ]
        },
        {
          "output_type": "display_data",
          "data": {
            "text/plain": [
              "<Figure size 800x600 with 1 Axes>"
            ],
            "image/png": "[encoded data removed]"
          },
          "metadata": {}
        },
        {
          "output_type": "display_data",
          "data": {
            "text/plain": [
              "<Figure size 800x600 with 1 Axes>"
            ],
            "image/png": "[encoded data removed]"
          },
          "metadata": {}
        }
      ]
    },
    {
      "cell_type": "code",
      "source": [
        "from sklearn.cluster import DBSCAN\n",
        "\n",
        "dbscan = DBSCAN(eps=0.5, min_samples=5, metric='cosine')\n",
        "dbscan_labels = dbscan.fit_predict(sbert_embeddings)\n",
        "\n",
        "# Remove noise points for silhouette\n",
        "filtered_embeddings = sbert_embeddings[dbscan_labels != -1]\n",
        "filtered_labels = dbscan_labels[dbscan_labels != -1]\n",
        "\n",
        "if len(set(filtered_labels)) > 1:\n",
        "    dbscan_score = silhouette_score(filtered_embeddings, filtered_labels)\n",
        "    print(\"SBERT + DBSCAN Silhouette Score:\", dbscan_score)\n",
        "else:\n",
        "    print(\"SBERT + DBSCAN did not form enough clusters for scoring.\")\n"
      ],
      "metadata": {
        "colab": {
          "base_uri": "https://localhost:8080/"
        },
        "id": "FdEEbBDb0TF9",
        "outputId": "14659800-f85d-49a9-81ac-98890127d25e"
      },
      "execution_count": null,
      "outputs": [
        {
          "output_type": "stream",
          "name": "stdout",
          "text": [
            "SBERT + DBSCAN Silhouette Score: 0.19606851\n"
          ]
        }
      ]
    },
    {
      "cell_type": "code",
      "source": [
        "import hdbscan\n",
        "\n",
        "hdb = hdbscan.HDBSCAN(min_cluster_size=5, metric='euclidean')\n",
        "hdb_labels = hdb.fit_predict(sbert_embeddings)\n",
        "\n",
        "if len(set(hdb_labels)) > 1:\n",
        "    hdb_score = silhouette_score(sbert_embeddings[hdb_labels != -1], hdb_labels[hdb_labels != -1])\n",
        "    print(\"SBERT + HDBSCAN Silhouette Score:\", hdb_score)\n",
        "else:\n",
        "    print(\"SBERT + HDBSCAN did not form enough clusters for scoring.\")\n"
      ],
      "metadata": {
        "colab": {
          "base_uri": "https://localhost:8080/"
        },
        "id": "NvvtLfY90UZt",
        "outputId": "79f482bb-152d-45a8-884d-fa2fdc61a290"
      },
      "execution_count": null,
      "outputs": [
        {
          "output_type": "stream",
          "name": "stdout",
          "text": [
            "SBERT + HDBSCAN did not form enough clusters for scoring.\n"
          ]
        },
        {
          "output_type": "stream",
          "name": "stderr",
          "text": [
            "/usr/local/lib/python3.11/dist-packages/sklearn/utils/deprecation.py:151: FutureWarning: 'force_all_finite' was renamed to 'ensure_all_finite' in 1.6 and will be removed in 1.8.\n",
            "  warnings.warn(\n",
            "/usr/local/lib/python3.11/dist-packages/sklearn/utils/deprecation.py:151: FutureWarning: 'force_all_finite' was renamed to 'ensure_all_finite' in 1.6 and will be removed in 1.8.\n",
            "  warnings.warn(\n"
          ]
        }
      ]
    },
    {
      "cell_type": "code",
      "source": [
        "import umap\n",
        "\n",
        "umap_model = umap.UMAP(n_neighbors=15, n_components=5, metric='cosine')\n",
        "umap_embeddings = umap_model.fit_transform(sbert_embeddings)\n",
        "\n",
        "kmeans_umap = KMeans(n_clusters=5, random_state=42)\n",
        "umap_labels = kmeans_umap.fit_predict(umap_embeddings)\n",
        "\n",
        "umap_score = silhouette_score(umap_embeddings, umap_labels)\n",
        "print(\"SBERT + UMAP + KMeans Silhouette Score:\", umap_score)\n"
      ],
      "metadata": {
        "colab": {
          "base_uri": "https://localhost:8080/"
        },
        "id": "JgOnC5yS0XTJ",
        "outputId": "54583799-a585-411e-b5bc-cd37bc30e90f"
      },
      "execution_count": null,
      "outputs": [
        {
          "output_type": "stream",
          "name": "stdout",
          "text": [
            "SBERT + UMAP + KMeans Silhouette Score: 0.39087802\n"
          ]
        }
      ]
    },
    {
      "cell_type": "code",
      "source": [
        "from sklearn.cluster import AgglomerativeClustering\n",
        "from sklearn.metrics import silhouette_score\n",
        "\n",
        "agg = AgglomerativeClustering(n_clusters=5)\n",
        "agg_labels = agg.fit_predict(X_tfidf.toarray())\n",
        "\n",
        "agg_score = silhouette_score(X_tfidf, agg_labels)\n",
        "print(\"TF-IDF + Agglomerative Clustering Silhouette Score:\", agg_score)\n"
      ],
      "metadata": {
        "colab": {
          "base_uri": "https://localhost:8080/"
        },
        "id": "-GzOl1Jm0zH5",
        "outputId": "ea7ae395-f255-49e7-f989-e064b415d6dd"
      },
      "execution_count": null,
      "outputs": [
        {
          "output_type": "stream",
          "name": "stdout",
          "text": [
            "TF-IDF + Agglomerative Clustering Silhouette Score: 0.15588352316631496\n"
          ]
        }
      ]
    },
    {
      "cell_type": "code",
      "source": [
        "agg_sbert = AgglomerativeClustering(n_clusters=5)\n",
        "agg_sbert_labels = agg_sbert.fit_predict(sbert_embeddings)\n",
        "\n",
        "agg_sbert_score = silhouette_score(sbert_embeddings, agg_sbert_labels)\n",
        "print(\"SBERT + Agglomerative Clustering Silhouette Score:\", agg_sbert_score)\n"
      ],
      "metadata": {
        "colab": {
          "base_uri": "https://localhost:8080/"
        },
        "id": "ebTEG9i501PY",
        "outputId": "4cae55f4-d9d5-4854-a59d-36e14e02e5ca"
      },
      "execution_count": null,
      "outputs": [
        {
          "output_type": "stream",
          "name": "stdout",
          "text": [
            "SBERT + Agglomerative Clustering Silhouette Score: 0.16733284\n"
          ]
        }
      ]
    },
    {
      "cell_type": "code",
      "source": [
        "from sentence_transformers import SentenceTransformer\n",
        "import umap\n",
        "from sklearn.cluster import KMeans\n",
        "from sklearn.metrics import silhouette_score\n",
        "import pandas as pd\n",
        "\n",
        "# Load your data\n",
        "# Make sure 'data' has a column 'text'\n",
        "# Example: data = pd.read_csv(\"your_dataset.csv\")\n",
        "\n",
        "# Step 1: SBERT Embeddings\n",
        "model = SentenceTransformer('all-MiniLM-L6-v2')\n",
        "sbert_embeddings = model.encode(data['text'].tolist(), show_progress_bar=True)\n",
        "\n",
        "# Step 2: UMAP Dimensionality Reduction\n",
        "umap_model = umap.UMAP(n_neighbors=15, n_components=2, min_dist=0.1, metric='cosine', random_state=42)\n",
        "umap_embeddings = umap_model.fit_transform(sbert_embeddings)\n",
        "\n",
        "# Step 3: KMeans Clustering\n",
        "kmeans = KMeans(n_clusters=5, random_state=42)\n",
        "kmeans_labels = kmeans.fit_predict(umap_embeddings)\n",
        "\n",
        "# Silhouette Score\n",
        "sil_score = silhouette_score(umap_embeddings, kmeans_labels)\n",
        "print(f\"\\nSilhouette Score (SBERT + UMAP + KMeans): {sil_score:.3f}\")\n"
      ],
      "metadata": {
        "colab": {
          "base_uri": "https://localhost:8080/",
          "height": 118,
          "referenced_widgets": [
            "7e633da2ddd24d9284973a5b53c0f0d4",
            "793385dbbda8427b8e1a1f8687931e87",
            "40e72b61e9e049a2beaf83ef9a3074e8",
            "d28b109fe1ec44e4a195f8828d8cc153",
            "0e256a91039a439b866ca9465654b4f7",
            "d2da657f809e4746b65af5068c27e288",
            "30d4af4fe3ea41629c0620a086499ee0",
            "6fb5e7fc07324fb7b3de3ca6900471b9",
            "64962f956d354f73b5a8c51108c95ffe",
            "033e3a127bac4c549ea8d7318f99ec26",
            "fcc3f4f63cf54890ba8b33055f2b93ee"
          ]
        },
        "id": "oYR705ek2LKG",
        "outputId": "55567f25-b8b3-4d09-e375-26a5a7379817"
      },
      "execution_count": null,
      "outputs": [
        {
          "output_type": "display_data",
          "data": {
            "text/plain": [
              "Batches:   0%|          | 0/2 [00:00<?, ?it/s]"
            ],
            "application/vnd.jupyter.widget-view+json": {
              "version_major": 2,
              "version_minor": 0,
              "model_id": "7e633da2ddd24d9284973a5b53c0f0d4"
            }
          },
          "metadata": {}
        },
        {
          "output_type": "stream",
          "name": "stderr",
          "text": [
            "/usr/local/lib/python3.11/dist-packages/umap/umap_.py:1952: UserWarning: n_jobs value 1 overridden to 1 by setting random_state. Use no seed for parallelism.\n",
            "  warn(\n"
          ]
        },
        {
          "output_type": "stream",
          "name": "stdout",
          "text": [
            "\n",
            "Silhouette Score (SBERT + UMAP + KMeans): 0.489\n"
          ]
        }
      ]
    },
    {
      "cell_type": "code",
      "source": [
        "import matplotlib.pyplot as plt\n",
        "import seaborn as sns\n",
        "\n",
        "plt.figure(figsize=(10, 6))\n",
        "sns.scatterplot(x=umap_embeddings[:, 0], y=umap_embeddings[:, 1], hue=kmeans_labels, palette='tab10', s=50)\n",
        "plt.title('SBERT + UMAP + KMeans Clusters', fontsize=14)\n",
        "plt.xlabel('UMAP-1')\n",
        "plt.ylabel('UMAP-2')\n",
        "plt.legend(title='Cluster', bbox_to_anchor=(1.05, 1), loc='upper left')\n",
        "plt.tight_layout()\n",
        "plt.show()\n"
      ],
      "metadata": {
        "colab": {
          "base_uri": "https://localhost:8080/",
          "height": 607
        },
        "id": "sHurAH5n2wiP",
        "outputId": "7249e568-21b3-4716-d13c-2d0ba248a391"
      },
      "execution_count": null,
      "outputs": [
        {
          "output_type": "display_data",
          "data": {
            "text/plain": [
              "<Figure size 1000x600 with 1 Axes>"
            ],
            "image/png": "[encoded data removed]"
          },
          "metadata": {}
        }
      ]
    },
    {
      "cell_type": "code",
      "source": [
        "data['cluster'] = kmeans_labels\n",
        "\n",
        "for i in sorted(data['cluster'].unique()):\n",
        "    print(f\"\\n🌀 Cluster {i} - Sample texts:\")\n",
        "    print(\"\\n\".join(data[data['cluster'] == i]['text'].iloc[:3].tolist()))\n"
      ],
      "metadata": {
        "colab": {
          "base_uri": "https://localhost:8080/"
        },
        "id": "6YG6CbVI209_",
        "outputId": "234c2065-5343-43ff-b59b-b81c7b4ec35f"
      },
      "execution_count": null,
      "outputs": [
        {
          "output_type": "stream",
          "name": "stdout",
          "text": [
            "\n",
            "🌀 Cluster 0 - Sample texts:\n",
            "Do you have any showrooms in Delhi state\n",
            "Do you accept Paisa EMI card\n",
            "what about emi options\n",
            "\n",
            "🌀 Cluster 1 - Sample texts:\n",
            "Custom size\n",
            "Help me with the size chart\n",
            "Customise size\n",
            "\n",
            "🌀 Cluster 2 - Sample texts:\n",
            "Difference between the products\n",
            "What is 100 Night trial offer\n",
            "Interested in buying\n",
            "\n",
            "🌀 Cluster 3 - Sample texts:\n",
            "Can I try a mattress first\n",
            "Tell me about SOF Ortho mattress\n",
            "What are the key features of the SOF Ortho mattress\n",
            "\n",
            "🌀 Cluster 4 - Sample texts:\n",
            "Arrange a call back\n",
            "Process of cancelling order\n",
            "I did not receive my order yet\n"
          ]
        }
      ]
    },
    {
      "cell_type": "code",
      "source": [
        "from sklearn.feature_extraction.text import TfidfVectorizer\n",
        "import numpy as np\n",
        "\n",
        "vectorizer = TfidfVectorizer(stop_words='english', max_features=1000)\n",
        "X_tfidf = vectorizer.fit_transform(data['text'])\n",
        "\n",
        "def get_top_keywords(tfidf_matrix, cluster_labels, features, top_n=5):\n",
        "    for cluster_num in np.unique(cluster_labels):\n",
        "        cluster_idx = np.where(cluster_labels == cluster_num)\n",
        "        mean_tfidf = np.mean(tfidf_matrix[cluster_idx], axis=0)\n",
        "        top_indices = np.array(mean_tfidf).flatten().argsort()[-top_n:][::-1]\n",
        "        keywords = [features[i] for i in top_indices]\n",
        "        print(f\"\\nCluster {cluster_num} Keywords: {keywords}\")\n",
        "\n",
        "get_top_keywords(X_tfidf, kmeans_labels, vectorizer.get_feature_names_out())\n"
      ],
      "metadata": {
        "colab": {
          "base_uri": "https://localhost:8080/"
        },
        "id": "3Mn9xcC624WK",
        "outputId": "8ab96247-4eb8-455a-ba6a-5ef7113f27b1"
      },
      "execution_count": null,
      "outputs": [
        {
          "output_type": "stream",
          "name": "stdout",
          "text": [
            "\n",
            "Cluster 0 Keywords: ['emi', 'paisa', 'want', 'installment', 'options']\n",
            "\n",
            "Cluster 1 Keywords: ['pillows', 'size', 'available', 'customise', 'help']\n",
            "\n",
            "Cluster 2 Keywords: ['want', 'cost', 'buy', 'know', 'product']\n",
            "\n",
            "Cluster 3 Keywords: ['mattress', 'sof', 'features', 'ergo', 'cost']\n",
            "\n",
            "Cluster 4 Keywords: ['order', 'status', 'arrange', 'track', 'receive']\n"
          ]
        }
      ]
    },
    {
      "cell_type": "code",
      "source": [
        "\n",
        "\n",
        "import numpy as np\n",
        "import pandas as pd\n",
        "import matplotlib.pyplot as plt\n",
        "import seaborn as sns\n",
        "\n",
        "from sklearn.cluster import KMeans\n",
        "from sklearn.metrics import silhouette_score\n",
        "from sklearn.feature_extraction.text import TfidfVectorizer\n",
        "from sentence_transformers import SentenceTransformer\n",
        "import umap\n",
        "\n",
        "# -----------------------------\n",
        "# STEP 1: Input Your Data\n",
        "# -----------------------------\n",
        "texts = [\n",
        "    # Add your text data here (list of strings)\n",
        "    \"Machine learning is amazing.\",\n",
        "    \"Deep learning enables many AI applications.\",\n",
        "    \"I love eating pizza and pasta.\",\n",
        "    \"Spaghetti is my favorite food.\",\n",
        "    \"The stock market is unpredictable.\",\n",
        "    \"Investing can be risky but rewarding.\",\n",
        "    \"Cats are cute animals.\",\n",
        "    \"Dogs are loyal companions.\"\n",
        "]\n",
        "\n",
        "# -----------------------------\n",
        "# STEP 2: Embed with Sentence-BERT\n",
        "# -----------------------------\n",
        "print(\"🔍 Generating SBERT embeddings...\")\n",
        "model = SentenceTransformer('all-MiniLM-L6-v2')\n",
        "sbert_embeddings = model.encode(texts, show_progress_bar=True)\n",
        "\n",
        "# -----------------------------\n",
        "# STEP 3: UMAP Dimensionality Reduction\n",
        "# -----------------------------\n",
        "print(\"📉 Applying UMAP for dimensionality reduction...\")\n",
        "umap_reducer = umap.UMAP(n_neighbors=15, n_components=5, metric='cosine')\n",
        "umap_embeddings = umap_reducer.fit_transform(sbert_embeddings)\n",
        "\n",
        "# -----------------------------\n",
        "# STEP 4: KMeans Clustering\n",
        "# -----------------------------\n",
        "print(\"🔗 Clustering with KMeans...\")\n",
        "num_clusters = 4  # Change this based on your use-case\n",
        "kmeans = KMeans(n_clusters=num_clusters, random_state=42)\n",
        "umap_labels = kmeans.fit_predict(umap_embeddings)\n",
        "\n",
        "sil_score = silhouette_score(umap_embeddings, umap_labels)\n",
        "print(f\"✅ Silhouette Score: {sil_score:.3f}\")\n",
        "\n",
        "# -----------------------------\n",
        "# STEP 5: 2D Visualization\n",
        "# -----------------------------\n",
        "print(\"📊 Visualizing clusters in 2D...\")\n",
        "umap_2d = umap.UMAP(n_neighbors=15, n_components=2, metric='cosine').fit_transform(sbert_embeddings)\n",
        "\n",
        "plt.figure(figsize=(10, 6))\n",
        "sns.scatterplot(x=umap_2d[:, 0], y=umap_2d[:, 1], hue=umap_labels, palette=\"tab10\")\n",
        "plt.title(\"SBERT + UMAP + KMeans Clustering\", fontsize=14)\n",
        "plt.xlabel(\"UMAP-1\"); plt.ylabel(\"UMAP-2\")\n",
        "plt.legend(title='Cluster')\n",
        "plt.tight_layout()\n",
        "plt.show()\n",
        "\n",
        "# -----------------------------\n",
        "# STEP 6: Cluster Keywords Extraction\n",
        "# -----------------------------\n",
        "def print_top_keywords(texts, labels, top_n=10):\n",
        "    tfidf = TfidfVectorizer(stop_words='english')\n",
        "    X = tfidf.fit_transform(texts)\n",
        "    terms = tfidf.get_feature_names_out()\n",
        "\n",
        "    for i in np.unique(labels):\n",
        "        cluster_texts = X[np.array(labels) == i]\n",
        "        mean_tfidf = np.asarray(cluster_texts.mean(axis=0)).flatten()\n",
        "        top_terms = mean_tfidf.argsort()[::-1][:top_n]\n",
        "        print(f\"\\n🔹 Cluster {i}: Top {top_n} keywords\")\n",
        "        for idx in top_terms:\n",
        "            print(f\"  - {terms[idx]}\")\n",
        "\n",
        "print_top_keywords(texts, umap_labels)\n",
        "\n",
        "# -----------------------------\n",
        "# STEP 7: Save Results\n",
        "# -----------------------------\n",
        "df = pd.DataFrame({'text': texts, 'cluster': umap_labels})\n",
        "df.to_csv(\"clustered_texts.csv\", index=False)\n",
        "print(\"\\n📁 Results saved to clustered_texts.csv\")\n",
        "\n",
        "\n"
      ],
      "metadata": {
        "colab": {
          "base_uri": "https://localhost:8080/",
          "height": 1000,
          "referenced_widgets": [
            "3721f4aa8320422fa13cac718caae31b",
            "676df4e06150412b88de17851b3d005b",
            "2d6d0d6bf40d434c9e70cd251bb0a13d",
            "6869d8b89492435695092aa3e7a47255",
            "5f66e54bac9142c9b7d09a9dcd0fee0b",
            "2342a91237b34947b60f537bf80d518e",
            "ce1359d1951e4afc8ccd33cc13dbab53",
            "70fd4254986d43d386e559a5ca450c28",
            "64f18684162945d8a31753c0965433a3",
            "383fa50383c542e586ef723c1507b3c0",
            "685799794e5b40ff854b3e28f7303e7a"
          ]
        },
        "id": "r9HXcvq52_RY",
        "outputId": "390b14bc-ce98-452a-bcdf-e7cc3784a82c"
      },
      "execution_count": null,
      "outputs": [
        {
          "output_type": "stream",
          "name": "stdout",
          "text": [
            "🔍 Generating SBERT embeddings...\n"
          ]
        },
        {
          "output_type": "display_data",
          "data": {
            "text/plain": [
              "Batches:   0%|          | 0/1 [00:00<?, ?it/s]"
            ],
            "application/vnd.jupyter.widget-view+json": {
              "version_major": 2,
              "version_minor": 0,
              "model_id": "3721f4aa8320422fa13cac718caae31b"
            }
          },
          "metadata": {}
        },
        {
          "output_type": "stream",
          "name": "stdout",
          "text": [
            "📉 Applying UMAP for dimensionality reduction...\n",
            "🔗 Clustering with KMeans...\n",
            "✅ Silhouette Score: 0.256\n",
            "📊 Visualizing clusters in 2D...\n"
          ]
        },
        {
          "output_type": "stream",
          "name": "stderr",
          "text": [
            "/usr/local/lib/python3.11/dist-packages/umap/umap_.py:2462: UserWarning: n_neighbors is larger than the dataset size; truncating to X.shape[0] - 1\n",
            "  warn(\n",
            "/usr/local/lib/python3.11/dist-packages/umap/umap_.py:2462: UserWarning: n_neighbors is larger than the dataset size; truncating to X.shape[0] - 1\n",
            "  warn(\n"
          ]
        },
        {
          "output_type": "display_data",
          "data": {
            "text/plain": [
              "<Figure size 1000x600 with 1 Axes>"
            ],
            "image/png": "[encoded data removed]"
          },
          "metadata": {}
        },
        {
          "output_type": "stream",
          "name": "stdout",
          "text": [
            "\n",
            "🔹 Cluster 0: Top 10 keywords\n",
            "  - spaghetti\n",
            "  - food\n",
            "  - favorite\n",
            "  - eating\n",
            "  - pasta\n",
            "  - pizza\n",
            "  - love\n",
            "  - unpredictable\n",
            "  - stock\n",
            "  - risky\n",
            "\n",
            "🔹 Cluster 1: Top 10 keywords\n",
            "  - unpredictable\n",
            "  - stock\n",
            "  - risky\n",
            "  - rewarding\n",
            "  - market\n",
            "  - investing\n",
            "  - pizza\n",
            "  - pasta\n",
            "  - machine\n",
            "  - spaghetti\n",
            "\n",
            "🔹 Cluster 2: Top 10 keywords\n",
            "  - learning\n",
            "  - machine\n",
            "  - amazing\n",
            "  - deep\n",
            "  - enables\n",
            "  - ai\n",
            "  - applications\n",
            "  - spaghetti\n",
            "  - stock\n",
            "  - unpredictable\n",
            "\n",
            "🔹 Cluster 3: Top 10 keywords\n",
            "  - loyal\n",
            "  - dogs\n",
            "  - cute\n",
            "  - companions\n",
            "  - cats\n",
            "  - animals\n",
            "  - stock\n",
            "  - spaghetti\n",
            "  - rewarding\n",
            "  - unpredictable\n",
            "\n",
            "📁 Results saved to clustered_texts.csv\n"
          ]
        }
      ]
    },
    {
      "cell_type": "code",
      "source": [
        "import matplotlib.pyplot as plt\n",
        "import seaborn as sns\n",
        "\n",
        "# Reduce to 2D for visualization\n",
        "umap_2d = umap.UMAP(n_components=2, metric='cosine').fit_transform(sbert_embeddings)\n",
        "\n",
        "plt.figure(figsize=(10, 6))\n",
        "sns.scatterplot(x=umap_2d[:, 0], y=umap_2d[:, 1], hue=umap_labels, palette='tab10')\n",
        "plt.title(\"SBERT + UMAP + KMeans Clustering\")\n",
        "plt.xlabel(\"UMAP-1\")\n",
        "plt.ylabel(\"UMAP-2\")\n",
        "plt.legend(title=\"Cluster\")\n",
        "plt.show()\n"
      ],
      "metadata": {
        "colab": {
          "base_uri": "https://localhost:8080/",
          "height": 599
        },
        "id": "rfKUC2Cf3kDW",
        "outputId": "69045fc2-4aab-45a8-f019-78f58add5884"
      },
      "execution_count": null,
      "outputs": [
        {
          "output_type": "stream",
          "name": "stderr",
          "text": [
            "/usr/local/lib/python3.11/dist-packages/umap/umap_.py:2462: UserWarning: n_neighbors is larger than the dataset size; truncating to X.shape[0] - 1\n",
            "  warn(\n"
          ]
        },
        {
          "output_type": "display_data",
          "data": {
            "text/plain": [
              "<Figure size 1000x600 with 1 Axes>"
            ],
            "image/png": "[encoded data removed]"
          },
          "metadata": {}
        }
      ]
    },
    {
      "cell_type": "code",
      "source": [
        "from sklearn.feature_extraction.text import TfidfVectorizer\n",
        "\n",
        "for cluster_num in set(umap_labels):\n",
        "    print(f\"\\nCluster {cluster_num}:\")\n",
        "    cluster_texts = [texts[i] for i in range(len(texts)) if umap_labels[i] == cluster_num]\n",
        "\n",
        "    vectorizer = TfidfVectorizer(stop_words='english', max_features=10)\n",
        "    tfidf = vectorizer.fit_transform(cluster_texts)\n",
        "    top_terms = vectorizer.get_feature_names_out()\n",
        "\n",
        "    print(\"Top terms:\", \", \".join(top_terms))\n",
        "    print(\"Sample text:\", cluster_texts[0])\n"
      ],
      "metadata": {
        "colab": {
          "base_uri": "https://localhost:8080/"
        },
        "id": "eJAugiji3lLO",
        "outputId": "1109548a-4c02-4b9a-c776-4cdff6225db7"
      },
      "execution_count": null,
      "outputs": [
        {
          "output_type": "stream",
          "name": "stdout",
          "text": [
            "\n",
            "Cluster 0:\n",
            "Top terms: eating, favorite, food, love, pasta, pizza, spaghetti\n",
            "Sample text: I love eating pizza and pasta.\n",
            "\n",
            "Cluster 1:\n",
            "Top terms: investing, market, rewarding, risky, stock, unpredictable\n",
            "Sample text: The stock market is unpredictable.\n",
            "\n",
            "Cluster 2:\n",
            "Top terms: ai, amazing, applications, deep, enables, learning, machine\n",
            "Sample text: Machine learning is amazing.\n",
            "\n",
            "Cluster 3:\n",
            "Top terms: animals, cats, companions, cute, dogs, loyal\n",
            "Sample text: Cats are cute animals.\n"
          ]
        }
      ]
    },
    {
      "cell_type": "code",
      "source": [
        "import numpy as np\n",
        "\n",
        "# Save embeddings + labels for future use\n",
        "np.save(\"umap_embeddings.npy\", umap_embeddings)\n",
        "np.save(\"umap_kmeans_labels.npy\", umap_labels)\n"
      ],
      "metadata": {
        "id": "RiXWKb8y3u_2"
      },
      "execution_count": null,
      "outputs": []
    }
  ]
}