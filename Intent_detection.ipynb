{
  "nbformat": 4,
  "nbformat_minor": 0,
  "metadata": {
    "colab": {
      "provenance": [],
      "authorship_tag": "ABX9TyO9KksCD/bZyhkDE4UZqYXn",
      "include_colab_link": true
    },
    "kernelspec": {
      "name": "python3",
      "display_name": "Python 3"
    },
    "language_info": {
      "name": "python"
    },
    "widgets": {
      "application/vnd.jupyter.widget-state+json": {
        "98e6de21c93f45faac32864b686d8a7c": {
          "model_module": "@jupyter-widgets/controls",
          "model_name": "HBoxModel",
          "model_module_version": "1.5.0",
          "state": {
            "_dom_classes": [],
            "_model_module": "@jupyter-widgets/controls",
            "_model_module_version": "1.5.0",
            "_model_name": "HBoxModel",
            "_view_count": null,
            "_view_module": "@jupyter-widgets/controls",
            "_view_module_version": "1.5.0",
            "_view_name": "HBoxView",
            "box_style": "",
            "children": [
              "IPY_MODEL_9ea4015638454570b12b0ad113d54b6b",
              "IPY_MODEL_90d969be0a8e46fb9983e17ce695024e",
              "IPY_MODEL_1a57e8b3c34b449aaf0b7c06415f17a2"
            ],
            "layout": "IPY_MODEL_d490daa391384d658fd4e8ebad7b615d"
          }
        },
        "9ea4015638454570b12b0ad113d54b6b": {
          "model_module": "@jupyter-widgets/controls",
          "model_name": "HTMLModel",
          "model_module_version": "1.5.0",
          "state": {
            "_dom_classes": [],
            "_model_module": "@jupyter-widgets/controls",
            "_model_module_version": "1.5.0",
            "_model_name": "HTMLModel",
            "_view_count": null,
            "_view_module": "@jupyter-widgets/controls",
            "_view_module_version": "1.5.0",
            "_view_name": "HTMLView",
            "description": "",
            "description_tooltip": null,
            "layout": "IPY_MODEL_22fc14ced5d44ca299e95fbe752ab548",
            "placeholder": "​",
            "style": "IPY_MODEL_154277587e4d47fcba461ed31cdaf5f8",
            "value": "Batches: 100%"
          }
        },
        "90d969be0a8e46fb9983e17ce695024e": {
          "model_module": "@jupyter-widgets/controls",
          "model_name": "FloatProgressModel",
          "model_module_version": "1.5.0",
          "state": {
            "_dom_classes": [],
            "_model_module": "@jupyter-widgets/controls",
            "_model_module_version": "1.5.0",
            "_model_name": "FloatProgressModel",
            "_view_count": null,
            "_view_module": "@jupyter-widgets/controls",
            "_view_module_version": "1.5.0",
            "_view_name": "ProgressView",
            "bar_style": "success",
            "description": "",
            "description_tooltip": null,
            "layout": "IPY_MODEL_667599fcc4e842abb9a36cf79fdc17eb",
            "max": 11,
            "min": 0,
            "orientation": "horizontal",
            "style": "IPY_MODEL_e8541e0c180a47caaf8a68860a1039a6",
            "value": 11
          }
        },
        "1a57e8b3c34b449aaf0b7c06415f17a2": {
          "model_module": "@jupyter-widgets/controls",
          "model_name": "HTMLModel",
          "model_module_version": "1.5.0",
          "state": {
            "_dom_classes": [],
            "_model_module": "@jupyter-widgets/controls",
            "_model_module_version": "1.5.0",
            "_model_name": "HTMLModel",
            "_view_count": null,
            "_view_module": "@jupyter-widgets/controls",
            "_view_module_version": "1.5.0",
            "_view_name": "HTMLView",
            "description": "",
            "description_tooltip": null,
            "layout": "IPY_MODEL_9786c5355410436c860084fee79d7dcb",
            "placeholder": "​",
            "style": "IPY_MODEL_e4749b1b718d45bdb3df1ea1a05c3c1e",
            "value": " 11/11 [00:04&lt;00:00,  4.03it/s]"
          }
        },
        "d490daa391384d658fd4e8ebad7b615d": {
          "model_module": "@jupyter-widgets/base",
          "model_name": "LayoutModel",
          "model_module_version": "1.2.0",
          "state": {
            "_model_module": "@jupyter-widgets/base",
            "_model_module_version": "1.2.0",
            "_model_name": "LayoutModel",
            "_view_count": null,
            "_view_module": "@jupyter-widgets/base",
            "_view_module_version": "1.2.0",
            "_view_name": "LayoutView",
            "align_content": null,
            "align_items": null,
            "align_self": null,
            "border": null,
            "bottom": null,
            "display": null,
            "flex": null,
            "flex_flow": null,
            "grid_area": null,
            "grid_auto_columns": null,
            "grid_auto_flow": null,
            "grid_auto_rows": null,
            "grid_column": null,
            "grid_gap": null,
            "grid_row": null,
            "grid_template_areas": null,
            "grid_template_columns": null,
            "grid_template_rows": null,
            "height": null,
            "justify_content": null,
            "justify_items": null,
            "left": null,
            "margin": null,
            "max_height": null,
            "max_width": null,
            "min_height": null,
            "min_width": null,
            "object_fit": null,
            "object_position": null,
            "order": null,
            "overflow": null,
            "overflow_x": null,
            "overflow_y": null,
            "padding": null,
            "right": null,
            "top": null,
            "visibility": null,
            "width": null
          }
        },
        "22fc14ced5d44ca299e95fbe752ab548": {
          "model_module": "@jupyter-widgets/base",
          "model_name": "LayoutModel",
          "model_module_version": "1.2.0",
          "state": {
            "_model_module": "@jupyter-widgets/base",
            "_model_module_version": "1.2.0",
            "_model_name": "LayoutModel",
            "_view_count": null,
            "_view_module": "@jupyter-widgets/base",
            "_view_module_version": "1.2.0",
            "_view_name": "LayoutView",
            "align_content": null,
            "align_items": null,
            "align_self": null,
            "border": null,
            "bottom": null,
            "display": null,
            "flex": null,
            "flex_flow": null,
            "grid_area": null,
            "grid_auto_columns": null,
            "grid_auto_flow": null,
            "grid_auto_rows": null,
            "grid_column": null,
            "grid_gap": null,
            "grid_row": null,
            "grid_template_areas": null,
            "grid_template_columns": null,
            "grid_template_rows": null,
            "height": null,
            "justify_content": null,
            "justify_items": null,
            "left": null,
            "margin": null,
            "max_height": null,
            "max_width": null,
            "min_height": null,
            "min_width": null,
            "object_fit": null,
            "object_position": null,
            "order": null,
            "overflow": null,
            "overflow_x": null,
            "overflow_y": null,
            "padding": null,
            "right": null,
            "top": null,
            "visibility": null,
            "width": null
          }
        },
        "154277587e4d47fcba461ed31cdaf5f8": {
          "model_module": "@jupyter-widgets/controls",
          "model_name": "DescriptionStyleModel",
          "model_module_version": "1.5.0",
          "state": {
            "_model_module": "@jupyter-widgets/controls",
            "_model_module_version": "1.5.0",
            "_model_name": "DescriptionStyleModel",
            "_view_count": null,
            "_view_module": "@jupyter-widgets/base",
            "_view_module_version": "1.2.0",
            "_view_name": "StyleView",
            "description_width": ""
          }
        },
        "667599fcc4e842abb9a36cf79fdc17eb": {
          "model_module": "@jupyter-widgets/base",
          "model_name": "LayoutModel",
          "model_module_version": "1.2.0",
          "state": {
            "_model_module": "@jupyter-widgets/base",
            "_model_module_version": "1.2.0",
            "_model_name": "LayoutModel",
            "_view_count": null,
            "_view_module": "@jupyter-widgets/base",
            "_view_module_version": "1.2.0",
            "_view_name": "LayoutView",
            "align_content": null,
            "align_items": null,
            "align_self": null,
            "border": null,
            "bottom": null,
            "display": null,
            "flex": null,
            "flex_flow": null,
            "grid_area": null,
            "grid_auto_columns": null,
            "grid_auto_flow": null,
            "grid_auto_rows": null,
            "grid_column": null,
            "grid_gap": null,
            "grid_row": null,
            "grid_template_areas": null,
            "grid_template_columns": null,
            "grid_template_rows": null,
            "height": null,
            "justify_content": null,
            "justify_items": null,
            "left": null,
            "margin": null,
            "max_height": null,
            "max_width": null,
            "min_height": null,
            "min_width": null,
            "object_fit": null,
            "object_position": null,
            "order": null,
            "overflow": null,
            "overflow_x": null,
            "overflow_y": null,
            "padding": null,
            "right": null,
            "top": null,
            "visibility": null,
            "width": null
          }
        },
        "e8541e0c180a47caaf8a68860a1039a6": {
          "model_module": "@jupyter-widgets/controls",
          "model_name": "ProgressStyleModel",
          "model_module_version": "1.5.0",
          "state": {
            "_model_module": "@jupyter-widgets/controls",
            "_model_module_version": "1.5.0",
            "_model_name": "ProgressStyleModel",
            "_view_count": null,
            "_view_module": "@jupyter-widgets/base",
            "_view_module_version": "1.2.0",
            "_view_name": "StyleView",
            "bar_color": null,
            "description_width": ""
          }
        },
        "9786c5355410436c860084fee79d7dcb": {
          "model_module": "@jupyter-widgets/base",
          "model_name": "LayoutModel",
          "model_module_version": "1.2.0",
          "state": {
            "_model_module": "@jupyter-widgets/base",
            "_model_module_version": "1.2.0",
            "_model_name": "LayoutModel",
            "_view_count": null,
            "_view_module": "@jupyter-widgets/base",
            "_view_module_version": "1.2.0",
            "_view_name": "LayoutView",
            "align_content": null,
            "align_items": null,
            "align_self": null,
            "border": null,
            "bottom": null,
            "display": null,
            "flex": null,
            "flex_flow": null,
            "grid_area": null,
            "grid_auto_columns": null,
            "grid_auto_flow": null,
            "grid_auto_rows": null,
            "grid_column": null,
            "grid_gap": null,
            "grid_row": null,
            "grid_template_areas": null,
            "grid_template_columns": null,
            "grid_template_rows": null,
            "height": null,
            "justify_content": null,
            "justify_items": null,
            "left": null,
            "margin": null,
            "max_height": null,
            "max_width": null,
            "min_height": null,
            "min_width": null,
            "object_fit": null,
            "object_position": null,
            "order": null,
            "overflow": null,
            "overflow_x": null,
            "overflow_y": null,
            "padding": null,
            "right": null,
            "top": null,
            "visibility": null,
            "width": null
          }
        },
        "e4749b1b718d45bdb3df1ea1a05c3c1e": {
          "model_module": "@jupyter-widgets/controls",
          "model_name": "DescriptionStyleModel",
          "model_module_version": "1.5.0",
          "state": {
            "_model_module": "@jupyter-widgets/controls",
            "_model_module_version": "1.5.0",
            "_model_name": "DescriptionStyleModel",
            "_view_count": null,
            "_view_module": "@jupyter-widgets/base",
            "_view_module_version": "1.2.0",
            "_view_name": "StyleView",
            "description_width": ""
          }
        },
        "6e1078248a454713ad1db944b3b96532": {
          "model_module": "@jupyter-widgets/controls",
          "model_name": "HBoxModel",
          "model_module_version": "1.5.0",
          "state": {
            "_dom_classes": [],
            "_model_module": "@jupyter-widgets/controls",
            "_model_module_version": "1.5.0",
            "_model_name": "HBoxModel",
            "_view_count": null,
            "_view_module": "@jupyter-widgets/controls",
            "_view_module_version": "1.5.0",
            "_view_name": "HBoxView",
            "box_style": "",
            "children": [
              "IPY_MODEL_f707501671834cda989360fced17519b",
              "IPY_MODEL_0dd92fdd079f418492d952a309816943",
              "IPY_MODEL_ad9244b2742d480fbea2111cafd44be5"
            ],
            "layout": "IPY_MODEL_e0dc9f02ff684c65b61939909db36fec"
          }
        },
        "f707501671834cda989360fced17519b": {
          "model_module": "@jupyter-widgets/controls",
          "model_name": "HTMLModel",
          "model_module_version": "1.5.0",
          "state": {
            "_dom_classes": [],
            "_model_module": "@jupyter-widgets/controls",
            "_model_module_version": "1.5.0",
            "_model_name": "HTMLModel",
            "_view_count": null,
            "_view_module": "@jupyter-widgets/controls",
            "_view_module_version": "1.5.0",
            "_view_name": "HTMLView",
            "description": "",
            "description_tooltip": null,
            "layout": "IPY_MODEL_d6c4637f5ee04fc1ad27602ca20f07f0",
            "placeholder": "​",
            "style": "IPY_MODEL_63f45116e6554ce7a324bef25ebf6488",
            "value": "Batches: 100%"
          }
        },
        "0dd92fdd079f418492d952a309816943": {
          "model_module": "@jupyter-widgets/controls",
          "model_name": "FloatProgressModel",
          "model_module_version": "1.5.0",
          "state": {
            "_dom_classes": [],
            "_model_module": "@jupyter-widgets/controls",
            "_model_module_version": "1.5.0",
            "_model_name": "FloatProgressModel",
            "_view_count": null,
            "_view_module": "@jupyter-widgets/controls",
            "_view_module_version": "1.5.0",
            "_view_name": "ProgressView",
            "bar_style": "success",
            "description": "",
            "description_tooltip": null,
            "layout": "IPY_MODEL_70971272dfee434690f9e6ed703cfb95",
            "max": 2,
            "min": 0,
            "orientation": "horizontal",
            "style": "IPY_MODEL_e1c3a1b6f5c141bca2c2102d72b24125",
            "value": 2
          }
        },
        "ad9244b2742d480fbea2111cafd44be5": {
          "model_module": "@jupyter-widgets/controls",
          "model_name": "HTMLModel",
          "model_module_version": "1.5.0",
          "state": {
            "_dom_classes": [],
            "_model_module": "@jupyter-widgets/controls",
            "_model_module_version": "1.5.0",
            "_model_name": "HTMLModel",
            "_view_count": null,
            "_view_module": "@jupyter-widgets/controls",
            "_view_module_version": "1.5.0",
            "_view_name": "HTMLView",
            "description": "",
            "description_tooltip": null,
            "layout": "IPY_MODEL_be3bb7b8a40f4eba9c83c61019ca8df3",
            "placeholder": "​",
            "style": "IPY_MODEL_34bb4e38fc864fd48a12e8f9f0c32bfc",
            "value": " 2/2 [00:00&lt;00:00,  4.00it/s]"
          }
        },
        "e0dc9f02ff684c65b61939909db36fec": {
          "model_module": "@jupyter-widgets/base",
          "model_name": "LayoutModel",
          "model_module_version": "1.2.0",
          "state": {
            "_model_module": "@jupyter-widgets/base",
            "_model_module_version": "1.2.0",
            "_model_name": "LayoutModel",
            "_view_count": null,
            "_view_module": "@jupyter-widgets/base",
            "_view_module_version": "1.2.0",
            "_view_name": "LayoutView",
            "align_content": null,
            "align_items": null,
            "align_self": null,
            "border": null,
            "bottom": null,
            "display": null,
            "flex": null,
            "flex_flow": null,
            "grid_area": null,
            "grid_auto_columns": null,
            "grid_auto_flow": null,
            "grid_auto_rows": null,
            "grid_column": null,
            "grid_gap": null,
            "grid_row": null,
            "grid_template_areas": null,
            "grid_template_columns": null,
            "grid_template_rows": null,
            "height": null,
            "justify_content": null,
            "justify_items": null,
            "left": null,
            "margin": null,
            "max_height": null,
            "max_width": null,
            "min_height": null,
            "min_width": null,
            "object_fit": null,
            "object_position": null,
            "order": null,
            "overflow": null,
            "overflow_x": null,
            "overflow_y": null,
            "padding": null,
            "right": null,
            "top": null,
            "visibility": null,
            "width": null
          }
        },
        "d6c4637f5ee04fc1ad27602ca20f07f0": {
          "model_module": "@jupyter-widgets/base",
          "model_name": "LayoutModel",
          "model_module_version": "1.2.0",
          "state": {
            "_model_module": "@jupyter-widgets/base",
            "_model_module_version": "1.2.0",
            "_model_name": "LayoutModel",
            "_view_count": null,
            "_view_module": "@jupyter-widgets/base",
            "_view_module_version": "1.2.0",
            "_view_name": "LayoutView",
            "align_content": null,
            "align_items": null,
            "align_self": null,
            "border": null,
            "bottom": null,
            "display": null,
            "flex": null,
            "flex_flow": null,
            "grid_area": null,
            "grid_auto_columns": null,
            "grid_auto_flow": null,
            "grid_auto_rows": null,
            "grid_column": null,
            "grid_gap": null,
            "grid_row": null,
            "grid_template_areas": null,
            "grid_template_columns": null,
            "grid_template_rows": null,
            "height": null,
            "justify_content": null,
            "justify_items": null,
            "left": null,
            "margin": null,
            "max_height": null,
            "max_width": null,
            "min_height": null,
            "min_width": null,
            "object_fit": null,
            "object_position": null,
            "order": null,
            "overflow": null,
            "overflow_x": null,
            "overflow_y": null,
            "padding": null,
            "right": null,
            "top": null,
            "visibility": null,
            "width": null
          }
        },
        "63f45116e6554ce7a324bef25ebf6488": {
          "model_module": "@jupyter-widgets/controls",
          "model_name": "DescriptionStyleModel",
          "model_module_version": "1.5.0",
          "state": {
            "_model_module": "@jupyter-widgets/controls",
            "_model_module_version": "1.5.0",
            "_model_name": "DescriptionStyleModel",
            "_view_count": null,
            "_view_module": "@jupyter-widgets/base",
            "_view_module_version": "1.2.0",
            "_view_name": "StyleView",
            "description_width": ""
          }
        },
        "70971272dfee434690f9e6ed703cfb95": {
          "model_module": "@jupyter-widgets/base",
          "model_name": "LayoutModel",
          "model_module_version": "1.2.0",
          "state": {
            "_model_module": "@jupyter-widgets/base",
            "_model_module_version": "1.2.0",
            "_model_name": "LayoutModel",
            "_view_count": null,
            "_view_module": "@jupyter-widgets/base",
            "_view_module_version": "1.2.0",
            "_view_name": "LayoutView",
            "align_content": null,
            "align_items": null,
            "align_self": null,
            "border": null,
            "bottom": null,
            "display": null,
            "flex": null,
            "flex_flow": null,
            "grid_area": null,
            "grid_auto_columns": null,
            "grid_auto_flow": null,
            "grid_auto_rows": null,
            "grid_column": null,
            "grid_gap": null,
            "grid_row": null,
            "grid_template_areas": null,
            "grid_template_columns": null,
            "grid_template_rows": null,
            "height": null,
            "justify_content": null,
            "justify_items": null,
            "left": null,
            "margin": null,
            "max_height": null,
            "max_width": null,
            "min_height": null,
            "min_width": null,
            "object_fit": null,
            "object_position": null,
            "order": null,
            "overflow": null,
            "overflow_x": null,
            "overflow_y": null,
            "padding": null,
            "right": null,
            "top": null,
            "visibility": null,
            "width": null
          }
        },
        "e1c3a1b6f5c141bca2c2102d72b24125": {
          "model_module": "@jupyter-widgets/controls",
          "model_name": "ProgressStyleModel",
          "model_module_version": "1.5.0",
          "state": {
            "_model_module": "@jupyter-widgets/controls",
            "_model_module_version": "1.5.0",
            "_model_name": "ProgressStyleModel",
            "_view_count": null,
            "_view_module": "@jupyter-widgets/base",
            "_view_module_version": "1.2.0",
            "_view_name": "StyleView",
            "bar_color": null,
            "description_width": ""
          }
        },
        "be3bb7b8a40f4eba9c83c61019ca8df3": {
          "model_module": "@jupyter-widgets/base",
          "model_name": "LayoutModel",
          "model_module_version": "1.2.0",
          "state": {
            "_model_module": "@jupyter-widgets/base",
            "_model_module_version": "1.2.0",
            "_model_name": "LayoutModel",
            "_view_count": null,
            "_view_module": "@jupyter-widgets/base",
            "_view_module_version": "1.2.0",
            "_view_name": "LayoutView",
            "align_content": null,
            "align_items": null,
            "align_self": null,
            "border": null,
            "bottom": null,
            "display": null,
            "flex": null,
            "flex_flow": null,
            "grid_area": null,
            "grid_auto_columns": null,
            "grid_auto_flow": null,
            "grid_auto_rows": null,
            "grid_column": null,
            "grid_gap": null,
            "grid_row": null,
            "grid_template_areas": null,
            "grid_template_columns": null,
            "grid_template_rows": null,
            "height": null,
            "justify_content": null,
            "justify_items": null,
            "left": null,
            "margin": null,
            "max_height": null,
            "max_width": null,
            "min_height": null,
            "min_width": null,
            "object_fit": null,
            "object_position": null,
            "order": null,
            "overflow": null,
            "overflow_x": null,
            "overflow_y": null,
            "padding": null,
            "right": null,
            "top": null,
            "visibility": null,
            "width": null
          }
        },
        "34bb4e38fc864fd48a12e8f9f0c32bfc": {
          "model_module": "@jupyter-widgets/controls",
          "model_name": "DescriptionStyleModel",
          "model_module_version": "1.5.0",
          "state": {
            "_model_module": "@jupyter-widgets/controls",
            "_model_module_version": "1.5.0",
            "_model_name": "DescriptionStyleModel",
            "_view_count": null,
            "_view_module": "@jupyter-widgets/base",
            "_view_module_version": "1.2.0",
            "_view_name": "StyleView",
            "description_width": ""
          }
        },
        "aaa5be79e02a4b6a94188c1e67ce8fc5": {
          "model_module": "@jupyter-widgets/controls",
          "model_name": "HBoxModel",
          "model_module_version": "1.5.0",
          "state": {
            "_dom_classes": [],
            "_model_module": "@jupyter-widgets/controls",
            "_model_module_version": "1.5.0",
            "_model_name": "HBoxModel",
            "_view_count": null,
            "_view_module": "@jupyter-widgets/controls",
            "_view_module_version": "1.5.0",
            "_view_name": "HBoxView",
            "box_style": "",
            "children": [
              "IPY_MODEL_06ad61d6926b4886b663a082f68ab36f",
              "IPY_MODEL_3c34acc33b324ed0aec0fa2795f6c9f6",
              "IPY_MODEL_23cd0abc476b4267ace2c879b2686d5b"
            ],
            "layout": "IPY_MODEL_bc663397443c4a0780976fbeec1ae691"
          }
        },
        "06ad61d6926b4886b663a082f68ab36f": {
          "model_module": "@jupyter-widgets/controls",
          "model_name": "HTMLModel",
          "model_module_version": "1.5.0",
          "state": {
            "_dom_classes": [],
            "_model_module": "@jupyter-widgets/controls",
            "_model_module_version": "1.5.0",
            "_model_name": "HTMLModel",
            "_view_count": null,
            "_view_module": "@jupyter-widgets/controls",
            "_view_module_version": "1.5.0",
            "_view_name": "HTMLView",
            "description": "",
            "description_tooltip": null,
            "layout": "IPY_MODEL_c934f24c61e54d9488db589a3d4cda91",
            "placeholder": "​",
            "style": "IPY_MODEL_962ca7d9a61a468786f40c9bceeaaabc",
            "value": "Batches: 100%"
          }
        },
        "3c34acc33b324ed0aec0fa2795f6c9f6": {
          "model_module": "@jupyter-widgets/controls",
          "model_name": "FloatProgressModel",
          "model_module_version": "1.5.0",
          "state": {
            "_dom_classes": [],
            "_model_module": "@jupyter-widgets/controls",
            "_model_module_version": "1.5.0",
            "_model_name": "FloatProgressModel",
            "_view_count": null,
            "_view_module": "@jupyter-widgets/controls",
            "_view_module_version": "1.5.0",
            "_view_name": "ProgressView",
            "bar_style": "success",
            "description": "",
            "description_tooltip": null,
            "layout": "IPY_MODEL_9f233526dee344a4b1b11033fe3dcc60",
            "max": 1,
            "min": 0,
            "orientation": "horizontal",
            "style": "IPY_MODEL_c90d41bac3df44109dc4abea36b8066c",
            "value": 1
          }
        },
        "23cd0abc476b4267ace2c879b2686d5b": {
          "model_module": "@jupyter-widgets/controls",
          "model_name": "HTMLModel",
          "model_module_version": "1.5.0",
          "state": {
            "_dom_classes": [],
            "_model_module": "@jupyter-widgets/controls",
            "_model_module_version": "1.5.0",
            "_model_name": "HTMLModel",
            "_view_count": null,
            "_view_module": "@jupyter-widgets/controls",
            "_view_module_version": "1.5.0",
            "_view_name": "HTMLView",
            "description": "",
            "description_tooltip": null,
            "layout": "IPY_MODEL_1a073898ceab457fa5352b3487553a01",
            "placeholder": "​",
            "style": "IPY_MODEL_9d6c94acbbc5434aa3bf63e3c1d5cfb3",
            "value": " 1/1 [00:00&lt;00:00, 13.00it/s]"
          }
        },
        "bc663397443c4a0780976fbeec1ae691": {
          "model_module": "@jupyter-widgets/base",
          "model_name": "LayoutModel",
          "model_module_version": "1.2.0",
          "state": {
            "_model_module": "@jupyter-widgets/base",
            "_model_module_version": "1.2.0",
            "_model_name": "LayoutModel",
            "_view_count": null,
            "_view_module": "@jupyter-widgets/base",
            "_view_module_version": "1.2.0",
            "_view_name": "LayoutView",
            "align_content": null,
            "align_items": null,
            "align_self": null,
            "border": null,
            "bottom": null,
            "display": null,
            "flex": null,
            "flex_flow": null,
            "grid_area": null,
            "grid_auto_columns": null,
            "grid_auto_flow": null,
            "grid_auto_rows": null,
            "grid_column": null,
            "grid_gap": null,
            "grid_row": null,
            "grid_template_areas": null,
            "grid_template_columns": null,
            "grid_template_rows": null,
            "height": null,
            "justify_content": null,
            "justify_items": null,
            "left": null,
            "margin": null,
            "max_height": null,
            "max_width": null,
            "min_height": null,
            "min_width": null,
            "object_fit": null,
            "object_position": null,
            "order": null,
            "overflow": null,
            "overflow_x": null,
            "overflow_y": null,
            "padding": null,
            "right": null,
            "top": null,
            "visibility": null,
            "width": null
          }
        },
        "c934f24c61e54d9488db589a3d4cda91": {
          "model_module": "@jupyter-widgets/base",
          "model_name": "LayoutModel",
          "model_module_version": "1.2.0",
          "state": {
            "_model_module": "@jupyter-widgets/base",
            "_model_module_version": "1.2.0",
            "_model_name": "LayoutModel",
            "_view_count": null,
            "_view_module": "@jupyter-widgets/base",
            "_view_module_version": "1.2.0",
            "_view_name": "LayoutView",
            "align_content": null,
            "align_items": null,
            "align_self": null,
            "border": null,
            "bottom": null,
            "display": null,
            "flex": null,
            "flex_flow": null,
            "grid_area": null,
            "grid_auto_columns": null,
            "grid_auto_flow": null,
            "grid_auto_rows": null,
            "grid_column": null,
            "grid_gap": null,
            "grid_row": null,
            "grid_template_areas": null,
            "grid_template_columns": null,
            "grid_template_rows": null,
            "height": null,
            "justify_content": null,
            "justify_items": null,
            "left": null,
            "margin": null,
            "max_height": null,
            "max_width": null,
            "min_height": null,
            "min_width": null,
            "object_fit": null,
            "object_position": null,
            "order": null,
            "overflow": null,
            "overflow_x": null,
            "overflow_y": null,
            "padding": null,
            "right": null,
            "top": null,
            "visibility": null,
            "width": null
          }
        },
        "962ca7d9a61a468786f40c9bceeaaabc": {
          "model_module": "@jupyter-widgets/controls",
          "model_name": "DescriptionStyleModel",
          "model_module_version": "1.5.0",
          "state": {
            "_model_module": "@jupyter-widgets/controls",
            "_model_module_version": "1.5.0",
            "_model_name": "DescriptionStyleModel",
            "_view_count": null,
            "_view_module": "@jupyter-widgets/base",
            "_view_module_version": "1.2.0",
            "_view_name": "StyleView",
            "description_width": ""
          }
        },
        "9f233526dee344a4b1b11033fe3dcc60": {
          "model_module": "@jupyter-widgets/base",
          "model_name": "LayoutModel",
          "model_module_version": "1.2.0",
          "state": {
            "_model_module": "@jupyter-widgets/base",
            "_model_module_version": "1.2.0",
            "_model_name": "LayoutModel",
            "_view_count": null,
            "_view_module": "@jupyter-widgets/base",
            "_view_module_version": "1.2.0",
            "_view_name": "LayoutView",
            "align_content": null,
            "align_items": null,
            "align_self": null,
            "border": null,
            "bottom": null,
            "display": null,
            "flex": null,
            "flex_flow": null,
            "grid_area": null,
            "grid_auto_columns": null,
            "grid_auto_flow": null,
            "grid_auto_rows": null,
            "grid_column": null,
            "grid_gap": null,
            "grid_row": null,
            "grid_template_areas": null,
            "grid_template_columns": null,
            "grid_template_rows": null,
            "height": null,
            "justify_content": null,
            "justify_items": null,
            "left": null,
            "margin": null,
            "max_height": null,
            "max_width": null,
            "min_height": null,
            "min_width": null,
            "object_fit": null,
            "object_position": null,
            "order": null,
            "overflow": null,
            "overflow_x": null,
            "overflow_y": null,
            "padding": null,
            "right": null,
            "top": null,
            "visibility": null,
            "width": null
          }
        },
        "c90d41bac3df44109dc4abea36b8066c": {
          "model_module": "@jupyter-widgets/controls",
          "model_name": "ProgressStyleModel",
          "model_module_version": "1.5.0",
          "state": {
            "_model_module": "@jupyter-widgets/controls",
            "_model_module_version": "1.5.0",
            "_model_name": "ProgressStyleModel",
            "_view_count": null,
            "_view_module": "@jupyter-widgets/base",
            "_view_module_version": "1.2.0",
            "_view_name": "StyleView",
            "bar_color": null,
            "description_width": ""
          }
        },
        "1a073898ceab457fa5352b3487553a01": {
          "model_module": "@jupyter-widgets/base",
          "model_name": "LayoutModel",
          "model_module_version": "1.2.0",
          "state": {
            "_model_module": "@jupyter-widgets/base",
            "_model_module_version": "1.2.0",
            "_model_name": "LayoutModel",
            "_view_count": null,
            "_view_module": "@jupyter-widgets/base",
            "_view_module_version": "1.2.0",
            "_view_name": "LayoutView",
            "align_content": null,
            "align_items": null,
            "align_self": null,
            "border": null,
            "bottom": null,
            "display": null,
            "flex": null,
            "flex_flow": null,
            "grid_area": null,
            "grid_auto_columns": null,
            "grid_auto_flow": null,
            "grid_auto_rows": null,
            "grid_column": null,
            "grid_gap": null,
            "grid_row": null,
            "grid_template_areas": null,
            "grid_template_columns": null,
            "grid_template_rows": null,
            "height": null,
            "justify_content": null,
            "justify_items": null,
            "left": null,
            "margin": null,
            "max_height": null,
            "max_width": null,
            "min_height": null,
            "min_width": null,
            "object_fit": null,
            "object_position": null,
            "order": null,
            "overflow": null,
            "overflow_x": null,
            "overflow_y": null,
            "padding": null,
            "right": null,
            "top": null,
            "visibility": null,
            "width": null
          }
        },
        "9d6c94acbbc5434aa3bf63e3c1d5cfb3": {
          "model_module": "@jupyter-widgets/controls",
          "model_name": "DescriptionStyleModel",
          "model_module_version": "1.5.0",
          "state": {
            "_model_module": "@jupyter-widgets/controls",
            "_model_module_version": "1.5.0",
            "_model_name": "DescriptionStyleModel",
            "_view_count": null,
            "_view_module": "@jupyter-widgets/base",
            "_view_module_version": "1.2.0",
            "_view_name": "StyleView",
            "description_width": ""
          }
        }
      }
    }
  },
  "cells": [
    {
      "cell_type": "markdown",
      "metadata": {
        "id": "view-in-github",
        "colab_type": "text"
      },
      "source": [
        "<a href=\"https://colab.research.google.com/github/ayushiiii28/Intent-code/blob/main/Intent_detection.ipynb\" target=\"_parent\"><img src=\"https://colab.research.google.com/assets/colab-badge.svg\" alt=\"Open In Colab\"/></a>"
      ]
    },
    {
      "cell_type": "code",
      "execution_count": 22,
      "metadata": {
        "colab": {
          "base_uri": "https://localhost:8080/"
        },
        "id": "8lQXf07WwsXm",
        "outputId": "61bcd3dd-a9dc-4151-ade6-8d23f46fd9af"
      },
      "outputs": [
        {
          "output_type": "stream",
          "name": "stdout",
          "text": [
            "Silhouette Score: 0.12987850349504101\n",
            "Clustered data saved to 'intent_clusters_output.csv'\n"
          ]
        }
      ],
      "source": [
        "# Step 1: Import required libraries\n",
        "import pandas as pd\n",
        "from sklearn.feature_extraction.text import TfidfVectorizer\n",
        "from sklearn.cluster import KMeans\n",
        "from sklearn.metrics import silhouette_score\n",
        "\n",
        "# Step 2: Load the dataset\n",
        "df = pd.read_csv(\"/content/data.csv\")  # replace with your path if needed\n",
        "\n",
        "# Step 3: Text Vectorization using TF-IDF\n",
        "tfidf = TfidfVectorizer(stop_words='english', max_df=0.9, min_df=2)\n",
        "X_tfidf = tfidf.fit_transform(df['sentence'])\n",
        "\n",
        "# Step 4: Clustering using KMeans\n",
        "kmeans = KMeans(n_clusters=10, random_state=42)\n",
        "clusters = kmeans.fit_predict(X_tfidf)\n",
        "\n",
        "# Step 5: Add the predicted cluster labels to the DataFrame\n",
        "df['cluster_label'] = clusters\n",
        "\n",
        "# Step 6: Evaluate clustering performance (optional)\n",
        "sil_score = silhouette_score(X_tfidf, clusters)\n",
        "print(\"Silhouette Score:\", sil_score)\n",
        "\n",
        "# Step 7: Save results to CSV\n",
        "df.to_csv(\"intent_clusters_output.csv\", index=False)\n",
        "print(\"Clustered data saved to 'intent_clusters_output.csv'\")\n"
      ]
    },
    {
      "cell_type": "code",
      "source": [
        "import pandas as pd\n",
        "\n",
        "df = pd.read_csv(\"intent_clusters_output.csv\")\n",
        "\n",
        "# View random sample from each cluster\n",
        "for label in sorted(df['cluster_label'].unique()):\n",
        "    print(f\"\\n--- Cluster {label} ---\")\n",
        "    print(df[df['cluster_label'] == label]['sentence'].sample(5).to_list())\n"
      ],
      "metadata": {
        "colab": {
          "base_uri": "https://localhost:8080/"
        },
        "id": "02CaTG6zxiKy",
        "outputId": "01542097-7ad5-4880-80b5-656aaf4534fd"
      },
      "execution_count": 23,
      "outputs": [
        {
          "output_type": "stream",
          "name": "stdout",
          "text": [
            "\n",
            "--- Cluster 0 ---\n",
            "['Customise size', 'Want to know the custom size chart', 'What is the price for size (x ft x y ft)? What is the price for size (x inches x y inches)?', 'Mattress size change', 'Can mattress size be customised?']\n",
            "\n",
            "--- Cluster 1 ---\n",
            "['Is the mattress good for my back', 'Can I visit SOF mattress showroom', 'How is SOF mattress different from', 'Show more mattress', 'What is SOF mattress']\n",
            "\n",
            "--- Cluster 2 ---\n",
            "['Show me products', 'Which mattress is best', 'Store in', 'Products', 'Looking to exchange']\n",
            "\n",
            "--- Cluster 3 ---\n",
            "['EMI Option', 'Do you offer Zero Percent EMI payment options?', 'Is EMI available', '0% EMI.', 'EMI']\n",
            "\n",
            "--- Cluster 4 ---\n",
            "['What is the difference between the Ergo & Ortho variants', 'Features of Ortho mattress', 'Ergo features', 'What are the mattress features', 'SOF ergo']\n",
            "\n",
            "--- Cluster 5 ---\n",
            "['How Much Cost', 'Cost', 'Cost of Mattress', 'How much does a SOF mattress cost', 'What does the mattress cost']\n",
            "\n",
            "--- Cluster 6 ---\n",
            "['I want to buy a mattress', 'I want to buy this in installments', 'Where can I see the product before I buy', 'Which mattress to buy?', 'I want to buy on EMI']\n",
            "\n",
            "--- Cluster 7 ---\n",
            "['What is the order status?', 'Cancel order', 'Track order', 'Need to cancel my order', 'What about my order']\n",
            "\n",
            "--- Cluster 8 ---\n",
            "['I want to cancel my order', 'Want to get in touch', 'I want to order', 'Want to know the price', 'I want cancel my order']\n",
            "\n",
            "--- Cluster 9 ---\n",
            "['Are Pillows available', 'Can I get pillows?', 'Can I buy pillows from here', 'Do you sell pillows?', 'Can I also have pillows']\n"
          ]
        }
      ]
    },
    {
      "cell_type": "code",
      "source": [
        "pip install sentence-transformers\n"
      ],
      "metadata": {
        "colab": {
          "base_uri": "https://localhost:8080/"
        },
        "id": "yxbGqY9DyDF6",
        "outputId": "b2b7ff1d-433d-4b08-ad91-f878b0e3f1c3"
      },
      "execution_count": null,
      "outputs": [
        {
          "output_type": "stream",
          "name": "stdout",
          "text": [
            "Requirement already satisfied: sentence-transformers in /usr/local/lib/python3.11/dist-packages (4.1.0)\n",
            "Requirement already satisfied: transformers<5.0.0,>=4.41.0 in /usr/local/lib/python3.11/dist-packages (from sentence-transformers) (4.53.2)\n",
            "Requirement already satisfied: tqdm in /usr/local/lib/python3.11/dist-packages (from sentence-transformers) (4.67.1)\n",
            "Requirement already satisfied: torch>=1.11.0 in /usr/local/lib/python3.11/dist-packages (from sentence-transformers) (2.6.0+cu124)\n",
            "Requirement already satisfied: scikit-learn in /usr/local/lib/python3.11/dist-packages (from sentence-transformers) (1.6.1)\n",
            "Requirement already satisfied: scipy in /usr/local/lib/python3.11/dist-packages (from sentence-transformers) (1.16.0)\n",
            "Requirement already satisfied: huggingface-hub>=0.20.0 in /usr/local/lib/python3.11/dist-packages (from sentence-transformers) (0.33.4)\n",
            "Requirement already satisfied: Pillow in /usr/local/lib/python3.11/dist-packages (from sentence-transformers) (11.3.0)\n",
            "Requirement already satisfied: typing_extensions>=4.5.0 in /usr/local/lib/python3.11/dist-packages (from sentence-transformers) (4.14.1)\n",
            "Requirement already satisfied: filelock in /usr/local/lib/python3.11/dist-packages (from huggingface-hub>=0.20.0->sentence-transformers) (3.18.0)\n",
            "Requirement already satisfied: fsspec>=2023.5.0 in /usr/local/lib/python3.11/dist-packages (from huggingface-hub>=0.20.0->sentence-transformers) (2025.7.0)\n",
            "Requirement already satisfied: packaging>=20.9 in /usr/local/lib/python3.11/dist-packages (from huggingface-hub>=0.20.0->sentence-transformers) (25.0)\n",
            "Requirement already satisfied: pyyaml>=5.1 in /usr/local/lib/python3.11/dist-packages (from huggingface-hub>=0.20.0->sentence-transformers) (6.0.2)\n",
            "Requirement already satisfied: requests in /usr/local/lib/python3.11/dist-packages (from huggingface-hub>=0.20.0->sentence-transformers) (2.32.3)\n",
            "Requirement already satisfied: hf-xet<2.0.0,>=1.1.2 in /usr/local/lib/python3.11/dist-packages (from huggingface-hub>=0.20.0->sentence-transformers) (1.1.5)\n",
            "Requirement already satisfied: networkx in /usr/local/lib/python3.11/dist-packages (from torch>=1.11.0->sentence-transformers) (3.5)\n",
            "Requirement already satisfied: jinja2 in /usr/local/lib/python3.11/dist-packages (from torch>=1.11.0->sentence-transformers) (3.1.6)\n",
            "Collecting nvidia-cuda-nvrtc-cu12==12.4.127 (from torch>=1.11.0->sentence-transformers)\n",
            "  Downloading nvidia_cuda_nvrtc_cu12-12.4.127-py3-none-manylinux2014_x86_64.whl.metadata (1.5 kB)\n",
            "Collecting nvidia-cuda-runtime-cu12==12.4.127 (from torch>=1.11.0->sentence-transformers)\n",
            "  Downloading nvidia_cuda_runtime_cu12-12.4.127-py3-none-manylinux2014_x86_64.whl.metadata (1.5 kB)\n",
            "Collecting nvidia-cuda-cupti-cu12==12.4.127 (from torch>=1.11.0->sentence-transformers)\n",
            "  Downloading nvidia_cuda_cupti_cu12-12.4.127-py3-none-manylinux2014_x86_64.whl.metadata (1.6 kB)\n",
            "Collecting nvidia-cudnn-cu12==9.1.0.70 (from torch>=1.11.0->sentence-transformers)\n",
            "  Downloading nvidia_cudnn_cu12-9.1.0.70-py3-none-manylinux2014_x86_64.whl.metadata (1.6 kB)\n",
            "Collecting nvidia-cublas-cu12==12.4.5.8 (from torch>=1.11.0->sentence-transformers)\n",
            "  Downloading nvidia_cublas_cu12-12.4.5.8-py3-none-manylinux2014_x86_64.whl.metadata (1.5 kB)\n",
            "Collecting nvidia-cufft-cu12==11.2.1.3 (from torch>=1.11.0->sentence-transformers)\n",
            "  Downloading nvidia_cufft_cu12-11.2.1.3-py3-none-manylinux2014_x86_64.whl.metadata (1.5 kB)\n",
            "Collecting nvidia-curand-cu12==10.3.5.147 (from torch>=1.11.0->sentence-transformers)\n",
            "  Downloading nvidia_curand_cu12-10.3.5.147-py3-none-manylinux2014_x86_64.whl.metadata (1.5 kB)\n",
            "Collecting nvidia-cusolver-cu12==11.6.1.9 (from torch>=1.11.0->sentence-transformers)\n",
            "  Downloading nvidia_cusolver_cu12-11.6.1.9-py3-none-manylinux2014_x86_64.whl.metadata (1.6 kB)\n",
            "Collecting nvidia-cusparse-cu12==12.3.1.170 (from torch>=1.11.0->sentence-transformers)\n",
            "  Downloading nvidia_cusparse_cu12-12.3.1.170-py3-none-manylinux2014_x86_64.whl.metadata (1.6 kB)\n",
            "Requirement already satisfied: nvidia-cusparselt-cu12==0.6.2 in /usr/local/lib/python3.11/dist-packages (from torch>=1.11.0->sentence-transformers) (0.6.2)\n",
            "Requirement already satisfied: nvidia-nccl-cu12==2.21.5 in /usr/local/lib/python3.11/dist-packages (from torch>=1.11.0->sentence-transformers) (2.21.5)\n",
            "Requirement already satisfied: nvidia-nvtx-cu12==12.4.127 in /usr/local/lib/python3.11/dist-packages (from torch>=1.11.0->sentence-transformers) (12.4.127)\n",
            "Collecting nvidia-nvjitlink-cu12==12.4.127 (from torch>=1.11.0->sentence-transformers)\n",
            "  Downloading nvidia_nvjitlink_cu12-12.4.127-py3-none-manylinux2014_x86_64.whl.metadata (1.5 kB)\n",
            "Requirement already satisfied: triton==3.2.0 in /usr/local/lib/python3.11/dist-packages (from torch>=1.11.0->sentence-transformers) (3.2.0)\n",
            "Requirement already satisfied: sympy==1.13.1 in /usr/local/lib/python3.11/dist-packages (from torch>=1.11.0->sentence-transformers) (1.13.1)\n",
            "Requirement already satisfied: mpmath<1.4,>=1.1.0 in /usr/local/lib/python3.11/dist-packages (from sympy==1.13.1->torch>=1.11.0->sentence-transformers) (1.3.0)\n",
            "Requirement already satisfied: numpy>=1.17 in /usr/local/lib/python3.11/dist-packages (from transformers<5.0.0,>=4.41.0->sentence-transformers) (2.0.2)\n",
            "Requirement already satisfied: regex!=2019.12.17 in /usr/local/lib/python3.11/dist-packages (from transformers<5.0.0,>=4.41.0->sentence-transformers) (2024.11.6)\n",
            "Requirement already satisfied: tokenizers<0.22,>=0.21 in /usr/local/lib/python3.11/dist-packages (from transformers<5.0.0,>=4.41.0->sentence-transformers) (0.21.2)\n",
            "Requirement already satisfied: safetensors>=0.4.3 in /usr/local/lib/python3.11/dist-packages (from transformers<5.0.0,>=4.41.0->sentence-transformers) (0.5.3)\n",
            "Requirement already satisfied: joblib>=1.2.0 in /usr/local/lib/python3.11/dist-packages (from scikit-learn->sentence-transformers) (1.5.1)\n",
            "Requirement already satisfied: threadpoolctl>=3.1.0 in /usr/local/lib/python3.11/dist-packages (from scikit-learn->sentence-transformers) (3.6.0)\n",
            "Requirement already satisfied: MarkupSafe>=2.0 in /usr/local/lib/python3.11/dist-packages (from jinja2->torch>=1.11.0->sentence-transformers) (3.0.2)\n",
            "Requirement already satisfied: charset-normalizer<4,>=2 in /usr/local/lib/python3.11/dist-packages (from requests->huggingface-hub>=0.20.0->sentence-transformers) (3.4.2)\n",
            "Requirement already satisfied: idna<4,>=2.5 in /usr/local/lib/python3.11/dist-packages (from requests->huggingface-hub>=0.20.0->sentence-transformers) (3.10)\n",
            "Requirement already satisfied: urllib3<3,>=1.21.1 in /usr/local/lib/python3.11/dist-packages (from requests->huggingface-hub>=0.20.0->sentence-transformers) (2.5.0)\n",
            "Requirement already satisfied: certifi>=2017.4.17 in /usr/local/lib/python3.11/dist-packages (from requests->huggingface-hub>=0.20.0->sentence-transformers) (2025.7.14)\n",
            "Downloading nvidia_cublas_cu12-12.4.5.8-py3-none-manylinux2014_x86_64.whl (363.4 MB)\n",
            "\u001b[2K   \u001b[90m━━━━━━━━━━━━━━━━━━━━━━━━━━━━━━━━━━━━━━━━\u001b[0m \u001b[32m363.4/363.4 MB\u001b[0m \u001b[31m4.3 MB/s\u001b[0m eta \u001b[36m0:00:00\u001b[0m\n",
            "\u001b[?25hDownloading nvidia_cuda_cupti_cu12-12.4.127-py3-none-manylinux2014_x86_64.whl (13.8 MB)\n",
            "\u001b[2K   \u001b[90m━━━━━━━━━━━━━━━━━━━━━━━━━━━━━━━━━━━━━━━━\u001b[0m \u001b[32m13.8/13.8 MB\u001b[0m \u001b[31m110.9 MB/s\u001b[0m eta \u001b[36m0:00:00\u001b[0m\n",
            "\u001b[?25hDownloading nvidia_cuda_nvrtc_cu12-12.4.127-py3-none-manylinux2014_x86_64.whl (24.6 MB)\n",
            "\u001b[2K   \u001b[90m━━━━━━━━━━━━━━━━━━━━━━━━━━━━━━━━━━━━━━━━\u001b[0m \u001b[32m24.6/24.6 MB\u001b[0m \u001b[31m85.5 MB/s\u001b[0m eta \u001b[36m0:00:00\u001b[0m\n",
            "\u001b[?25hDownloading nvidia_cuda_runtime_cu12-12.4.127-py3-none-manylinux2014_x86_64.whl (883 kB)\n",
            "\u001b[2K   \u001b[90m━━━━━━━━━━━━━━━━━━━━━━━━━━━━━━━━━━━━━━━━\u001b[0m \u001b[32m883.7/883.7 kB\u001b[0m \u001b[31m60.9 MB/s\u001b[0m eta \u001b[36m0:00:00\u001b[0m\n",
            "\u001b[?25hDownloading nvidia_cudnn_cu12-9.1.0.70-py3-none-manylinux2014_x86_64.whl (664.8 MB)\n",
            "\u001b[2K   \u001b[90m━━━━━━━━━━━━━━━━━━━━━━━━━━━━━━━━━━━━━━━━\u001b[0m \u001b[32m664.8/664.8 MB\u001b[0m \u001b[31m1.4 MB/s\u001b[0m eta \u001b[36m0:00:00\u001b[0m\n",
            "\u001b[?25hDownloading nvidia_cufft_cu12-11.2.1.3-py3-none-manylinux2014_x86_64.whl (211.5 MB)\n",
            "\u001b[2K   \u001b[90m━━━━━━━━━━━━━━━━━━━━━━━━━━━━━━━━━━━━━━━━\u001b[0m \u001b[32m211.5/211.5 MB\u001b[0m \u001b[31m5.5 MB/s\u001b[0m eta \u001b[36m0:00:00\u001b[0m\n",
            "\u001b[?25hDownloading nvidia_curand_cu12-10.3.5.147-py3-none-manylinux2014_x86_64.whl (56.3 MB)\n",
            "\u001b[2K   \u001b[90m━━━━━━━━━━━━━━━━━━━━━━━━━━━━━━━━━━━━━━━━\u001b[0m \u001b[32m56.3/56.3 MB\u001b[0m \u001b[31m11.9 MB/s\u001b[0m eta \u001b[36m0:00:00\u001b[0m\n",
            "\u001b[?25hDownloading nvidia_cusolver_cu12-11.6.1.9-py3-none-manylinux2014_x86_64.whl (127.9 MB)\n",
            "\u001b[2K   \u001b[90m━━━━━━━━━━━━━━━━━━━━━━━━━━━━━━━━━━━━━━━━\u001b[0m \u001b[32m127.9/127.9 MB\u001b[0m \u001b[31m7.2 MB/s\u001b[0m eta \u001b[36m0:00:00\u001b[0m\n",
            "\u001b[?25hDownloading nvidia_cusparse_cu12-12.3.1.170-py3-none-manylinux2014_x86_64.whl (207.5 MB)\n",
            "\u001b[2K   \u001b[90m━━━━━━━━━━━━━━━━━━━━━━━━━━━━━━━━━━━━━━━━\u001b[0m \u001b[32m207.5/207.5 MB\u001b[0m \u001b[31m5.5 MB/s\u001b[0m eta \u001b[36m0:00:00\u001b[0m\n",
            "\u001b[?25hDownloading nvidia_nvjitlink_cu12-12.4.127-py3-none-manylinux2014_x86_64.whl (21.1 MB)\n",
            "\u001b[2K   \u001b[90m━━━━━━━━━━━━━━━━━━━━━━━━━━━━━━━━━━━━━━━━\u001b[0m \u001b[32m21.1/21.1 MB\u001b[0m \u001b[31m79.8 MB/s\u001b[0m eta \u001b[36m0:00:00\u001b[0m\n",
            "\u001b[?25hInstalling collected packages: nvidia-nvjitlink-cu12, nvidia-curand-cu12, nvidia-cufft-cu12, nvidia-cuda-runtime-cu12, nvidia-cuda-nvrtc-cu12, nvidia-cuda-cupti-cu12, nvidia-cublas-cu12, nvidia-cusparse-cu12, nvidia-cudnn-cu12, nvidia-cusolver-cu12\n",
            "  Attempting uninstall: nvidia-nvjitlink-cu12\n",
            "    Found existing installation: nvidia-nvjitlink-cu12 12.5.82\n",
            "    Uninstalling nvidia-nvjitlink-cu12-12.5.82:\n",
            "      Successfully uninstalled nvidia-nvjitlink-cu12-12.5.82\n",
            "  Attempting uninstall: nvidia-curand-cu12\n",
            "    Found existing installation: nvidia-curand-cu12 10.3.6.82\n",
            "    Uninstalling nvidia-curand-cu12-10.3.6.82:\n",
            "      Successfully uninstalled nvidia-curand-cu12-10.3.6.82\n",
            "  Attempting uninstall: nvidia-cufft-cu12\n",
            "    Found existing installation: nvidia-cufft-cu12 11.2.3.61\n",
            "    Uninstalling nvidia-cufft-cu12-11.2.3.61:\n",
            "      Successfully uninstalled nvidia-cufft-cu12-11.2.3.61\n",
            "  Attempting uninstall: nvidia-cuda-runtime-cu12\n",
            "    Found existing installation: nvidia-cuda-runtime-cu12 12.5.82\n",
            "    Uninstalling nvidia-cuda-runtime-cu12-12.5.82:\n",
            "      Successfully uninstalled nvidia-cuda-runtime-cu12-12.5.82\n",
            "  Attempting uninstall: nvidia-cuda-nvrtc-cu12\n",
            "    Found existing installation: nvidia-cuda-nvrtc-cu12 12.5.82\n",
            "    Uninstalling nvidia-cuda-nvrtc-cu12-12.5.82:\n",
            "      Successfully uninstalled nvidia-cuda-nvrtc-cu12-12.5.82\n",
            "  Attempting uninstall: nvidia-cuda-cupti-cu12\n",
            "    Found existing installation: nvidia-cuda-cupti-cu12 12.5.82\n",
            "    Uninstalling nvidia-cuda-cupti-cu12-12.5.82:\n",
            "      Successfully uninstalled nvidia-cuda-cupti-cu12-12.5.82\n",
            "  Attempting uninstall: nvidia-cublas-cu12\n",
            "    Found existing installation: nvidia-cublas-cu12 12.5.3.2\n",
            "    Uninstalling nvidia-cublas-cu12-12.5.3.2:\n",
            "      Successfully uninstalled nvidia-cublas-cu12-12.5.3.2\n",
            "  Attempting uninstall: nvidia-cusparse-cu12\n",
            "    Found existing installation: nvidia-cusparse-cu12 12.5.1.3\n",
            "    Uninstalling nvidia-cusparse-cu12-12.5.1.3:\n",
            "      Successfully uninstalled nvidia-cusparse-cu12-12.5.1.3\n",
            "  Attempting uninstall: nvidia-cudnn-cu12\n",
            "    Found existing installation: nvidia-cudnn-cu12 9.3.0.75\n",
            "    Uninstalling nvidia-cudnn-cu12-9.3.0.75:\n",
            "      Successfully uninstalled nvidia-cudnn-cu12-9.3.0.75\n",
            "  Attempting uninstall: nvidia-cusolver-cu12\n",
            "    Found existing installation: nvidia-cusolver-cu12 11.6.3.83\n",
            "    Uninstalling nvidia-cusolver-cu12-11.6.3.83:\n",
            "      Successfully uninstalled nvidia-cusolver-cu12-11.6.3.83\n",
            "Successfully installed nvidia-cublas-cu12-12.4.5.8 nvidia-cuda-cupti-cu12-12.4.127 nvidia-cuda-nvrtc-cu12-12.4.127 nvidia-cuda-runtime-cu12-12.4.127 nvidia-cudnn-cu12-9.1.0.70 nvidia-cufft-cu12-11.2.1.3 nvidia-curand-cu12-10.3.5.147 nvidia-cusolver-cu12-11.6.1.9 nvidia-cusparse-cu12-12.3.1.170 nvidia-nvjitlink-cu12-12.4.127\n"
          ]
        }
      ]
    },
    {
      "cell_type": "code",
      "source": [
        "import pandas as pd\n",
        "from sentence_transformers import SentenceTransformer\n",
        "from sklearn.cluster import KMeans\n",
        "from sklearn.metrics import silhouette_score\n",
        "\n",
        "# Load data\n",
        "df = pd.read_csv(\"/content/data.csv\")  # adjust path\n",
        "\n",
        "# Load SBERT model\n",
        "model = SentenceTransformer('all-MiniLM-L6-v2')\n",
        "\n",
        "# Create sentence embeddings\n",
        "embeddings = model.encode(df['sentence'], show_progress_bar=True)\n",
        "\n",
        "# Apply KMeans\n",
        "kmeans = KMeans(n_clusters=10, random_state=42)\n",
        "sbert_clusters = kmeans.fit_predict(embeddings)\n",
        "\n",
        "# Add to DataFrame\n",
        "df['sbert_cluster'] = sbert_clusters\n",
        "\n",
        "# Evaluate\n",
        "sil_score = silhouette_score(embeddings, sbert_clusters)\n",
        "print(f\"SBERT Clustering Silhouette Score: {sil_score}\")\n",
        "\n",
        "# Save\n",
        "df.to_csv(\"sbert_clusters_output.csv\", index=False)\n"
      ],
      "metadata": {
        "colab": {
          "base_uri": "https://localhost:8080/",
          "height": 66,
          "referenced_widgets": [
            "98e6de21c93f45faac32864b686d8a7c",
            "9ea4015638454570b12b0ad113d54b6b",
            "90d969be0a8e46fb9983e17ce695024e",
            "1a57e8b3c34b449aaf0b7c06415f17a2",
            "d490daa391384d658fd4e8ebad7b615d",
            "22fc14ced5d44ca299e95fbe752ab548",
            "154277587e4d47fcba461ed31cdaf5f8",
            "667599fcc4e842abb9a36cf79fdc17eb",
            "e8541e0c180a47caaf8a68860a1039a6",
            "9786c5355410436c860084fee79d7dcb",
            "e4749b1b718d45bdb3df1ea1a05c3c1e"
          ]
        },
        "id": "zhmJlW8myHL-",
        "outputId": "8ace9678-b4a7-4b2b-8302-c6fe16c3401e"
      },
      "execution_count": 24,
      "outputs": [
        {
          "output_type": "display_data",
          "data": {
            "text/plain": [
              "Batches:   0%|          | 0/11 [00:00<?, ?it/s]"
            ],
            "application/vnd.jupyter.widget-view+json": {
              "version_major": 2,
              "version_minor": 0,
              "model_id": "98e6de21c93f45faac32864b686d8a7c"
            }
          },
          "metadata": {}
        },
        {
          "output_type": "stream",
          "name": "stdout",
          "text": [
            "SBERT Clustering Silhouette Score: 0.12066186219453812\n"
          ]
        }
      ]
    },
    {
      "cell_type": "code",
      "source": [
        "import pandas as pd\n",
        "from sklearn.feature_extraction.text import TfidfVectorizer\n",
        "from sklearn.cluster import KMeans\n",
        "from sklearn.metrics import silhouette_score\n",
        "from sklearn.decomposition import PCA\n",
        "import matplotlib.pyplot as plt\n",
        "import seaborn as sns\n",
        "\n",
        "from sentence_transformers import SentenceTransformer\n",
        "import numpy as np\n",
        "\n",
        "# --- Sample Data (Replace with your own) ---\n",
        "data = pd.DataFrame({\n",
        "    'text': [\n",
        "        'Custom size', 'Help me with the size chart', 'Customise size',\n",
        "        'Will I get an option to Customise the size', 'Need some help in changing size of the mattress',\n",
        "        'Can I try a mattress first', 'Tell me about SOF Ortho mattress',\n",
        "        'What are the key features of the SOF Ortho mattress', 'What is SOF mattress',\n",
        "        'How is SOF different from other mattress brands',\n",
        "        'Difference between the products', 'Arrange a call back', 'What is 100 Night trial offer',\n",
        "        'Do you have any showrooms in Delhi state', 'Interested in buying',\n",
        "        'Do you accept Paisa EMI card', 'what about emi options', 'How to get in EMI',\n",
        "        'How to EMI', 'I need emi payment.',\n",
        "        'Features of Ergo mattress', 'What is the difference between the Ergo & Ortho variants',\n",
        "        'SOF ergo features', 'What are the key features of the SOF Ergo mattress', 'Ergo features',\n",
        "        'Cost of Mattress', 'Cost', 'How Much Cost', 'Cost of Bed', 'Mattress cost',\n",
        "        'Which mattress to buy?', 'I want to buy a mattress', 'Where can I see the product before I buy',\n",
        "        'I want to buy this', 'Can we buy through Paisa finance',\n",
        "        'Process of cancelling order', 'I did not receive my order yet',\n",
        "        'Track order', 'What is my order status?', 'Status of my order',\n",
        "        'Want to know the price', 'I want in installment', 'I want it on 0% interest',\n",
        "        'Want to know the discount', 'Want to talk to an live agent',\n",
        "        'Need pair of Pillows', 'Are Pillows available', 'Is pillows available',\n",
        "        'Pillows', 'Do you sell pillows?'\n",
        "    ]\n",
        "})\n",
        "\n",
        "# --- TF-IDF + KMeans ---\n",
        "tfidf_vectorizer = TfidfVectorizer(stop_words='english', max_df=0.8, min_df=1)\n",
        "X_tfidf = tfidf_vectorizer.fit_transform(data['text'])\n",
        "\n",
        "k = 10\n",
        "kmeans_tfidf = KMeans(n_clusters=k, random_state=42)\n",
        "tfidf_labels = kmeans_tfidf.fit_predict(X_tfidf)\n",
        "\n",
        "sil_score_tfidf = silhouette_score(X_tfidf, tfidf_labels)\n",
        "print(f\"TF-IDF Clustering Silhouette Score: {sil_score_tfidf:.4f}\")\n",
        "\n",
        "# --- SBERT + KMeans ---\n",
        "model = SentenceTransformer('all-MiniLM-L6-v2')\n",
        "sbert_embeddings = model.encode(data['text'])\n",
        "\n",
        "kmeans_sbert = KMeans(n_clusters=k, random_state=42)\n",
        "sbert_labels = kmeans_sbert.fit_predict(sbert_embeddings)\n",
        "\n",
        "sil_score_sbert = silhouette_score(sbert_embeddings, sbert_labels)\n",
        "print(f\"SBERT Clustering Silhouette Score: {sil_score_sbert:.4f}\")\n",
        "\n",
        "# --- Plotting Function ---\n",
        "def plot_clusters(X, labels, title):\n",
        "    pca = PCA(n_components=2)\n",
        "    reduced = pca.fit_transform(X)\n",
        "\n",
        "    plt.figure(figsize=(8, 6))\n",
        "    sns.scatterplot(x=reduced[:, 0], y=reduced[:, 1], hue=labels, palette='tab10', s=100)\n",
        "    plt.title(title)\n",
        "    plt.xlabel(\"PCA Component 1\")\n",
        "    plt.ylabel(\"PCA Component 2\")\n",
        "    plt.legend(title=\"Cluster\")\n",
        "    plt.grid(True)\n",
        "    plt.show()\n",
        "\n",
        "# --- Visualize ---\n",
        "plot_clusters(X_tfidf.toarray(), tfidf_labels, \"TF-IDF + KMeans Clusters\")\n",
        "plot_clusters(sbert_embeddings, sbert_labels, \"SBERT + KMeans Clusters\")\n"
      ],
      "metadata": {
        "colab": {
          "base_uri": "https://localhost:8080/",
          "height": 1000
        },
        "id": "4jovB7-Py_VF",
        "outputId": "0f90f8df-28ec-4164-c851-0b3e4eff188c"
      },
      "execution_count": 25,
      "outputs": [
        {
          "output_type": "stream",
          "name": "stdout",
          "text": [
            "TF-IDF Clustering Silhouette Score: 0.2064\n",
            "SBERT Clustering Silhouette Score: 0.1954\n"
          ]
        },
        {
          "output_type": "display_data",
          "data": {
            "text/plain": [
              "<Figure size 800x600 with 1 Axes>"
            ],
            "image/png": "[encoded data removed]"
          },
          "metadata": {}
        },
        {
          "output_type": "display_data",
          "data": {
            "text/plain": [
              "<Figure size 800x600 with 1 Axes>"
            ],
            "image/png": "[encoded data removed]"
          },
          "metadata": {}
        }
      ]
    },
    {
      "cell_type": "code",
      "source": [
        "from sklearn.cluster import DBSCAN\n",
        "\n",
        "dbscan = DBSCAN(eps=0.5, min_samples=5, metric='cosine')\n",
        "dbscan_labels = dbscan.fit_predict(sbert_embeddings)\n",
        "\n",
        "# Remove noise points for silhouette\n",
        "filtered_embeddings = sbert_embeddings[dbscan_labels != -1]\n",
        "filtered_labels = dbscan_labels[dbscan_labels != -1]\n",
        "\n",
        "if len(set(filtered_labels)) > 1:\n",
        "    dbscan_score = silhouette_score(filtered_embeddings, filtered_labels)\n",
        "    print(\"SBERT + DBSCAN Silhouette Score:\", dbscan_score)\n",
        "else:\n",
        "    print(\"SBERT + DBSCAN did not form enough clusters for scoring.\")\n"
      ],
      "metadata": {
        "colab": {
          "base_uri": "https://localhost:8080/"
        },
        "id": "FdEEbBDb0TF9",
        "outputId": "97822164-277e-4bac-ebdd-42b6b99c7ebb"
      },
      "execution_count": 26,
      "outputs": [
        {
          "output_type": "stream",
          "name": "stdout",
          "text": [
            "SBERT + DBSCAN Silhouette Score: 0.19606851\n"
          ]
        }
      ]
    },
    {
      "cell_type": "code",
      "source": [
        "import hdbscan\n",
        "\n",
        "hdb = hdbscan.HDBSCAN(min_cluster_size=5, metric='euclidean')\n",
        "hdb_labels = hdb.fit_predict(sbert_embeddings)\n",
        "\n",
        "if len(set(hdb_labels)) > 1:\n",
        "    hdb_score = silhouette_score(sbert_embeddings[hdb_labels != -1], hdb_labels[hdb_labels != -1])\n",
        "    print(\"SBERT + HDBSCAN Silhouette Score:\", hdb_score)\n",
        "else:\n",
        "    print(\"SBERT + HDBSCAN did not form enough clusters for scoring.\")\n"
      ],
      "metadata": {
        "colab": {
          "base_uri": "https://localhost:8080/"
        },
        "id": "NvvtLfY90UZt",
        "outputId": "424e6810-3dc0-4652-d8f0-a9117e085359"
      },
      "execution_count": 27,
      "outputs": [
        {
          "output_type": "stream",
          "name": "stdout",
          "text": [
            "SBERT + HDBSCAN did not form enough clusters for scoring.\n"
          ]
        },
        {
          "output_type": "stream",
          "name": "stderr",
          "text": [
            "/usr/local/lib/python3.11/dist-packages/sklearn/utils/deprecation.py:151: FutureWarning: 'force_all_finite' was renamed to 'ensure_all_finite' in 1.6 and will be removed in 1.8.\n",
            "  warnings.warn(\n",
            "/usr/local/lib/python3.11/dist-packages/sklearn/utils/deprecation.py:151: FutureWarning: 'force_all_finite' was renamed to 'ensure_all_finite' in 1.6 and will be removed in 1.8.\n",
            "  warnings.warn(\n"
          ]
        }
      ]
    },
    {
      "cell_type": "code",
      "source": [
        "import umap\n",
        "\n",
        "umap_model = umap.UMAP(n_neighbors=15, n_components=5, metric='cosine')\n",
        "umap_embeddings = umap_model.fit_transform(sbert_embeddings)\n",
        "\n",
        "kmeans_umap = KMeans(n_clusters=5, random_state=42)\n",
        "umap_labels = kmeans_umap.fit_predict(umap_embeddings)\n",
        "\n",
        "umap_score = silhouette_score(umap_embeddings, umap_labels)\n",
        "print(\"SBERT + UMAP + KMeans Silhouette Score:\", umap_score)\n"
      ],
      "metadata": {
        "colab": {
          "base_uri": "https://localhost:8080/"
        },
        "id": "JgOnC5yS0XTJ",
        "outputId": "6cc375ce-c6e5-4eab-bbf5-890042cb0bd8"
      },
      "execution_count": 28,
      "outputs": [
        {
          "output_type": "stream",
          "name": "stdout",
          "text": [
            "SBERT + UMAP + KMeans Silhouette Score: 0.4037424\n"
          ]
        }
      ]
    },
    {
      "cell_type": "code",
      "source": [
        "from sklearn.cluster import AgglomerativeClustering\n",
        "from sklearn.metrics import silhouette_score\n",
        "\n",
        "agg = AgglomerativeClustering(n_clusters=5)\n",
        "agg_labels = agg.fit_predict(X_tfidf.toarray())\n",
        "\n",
        "agg_score = silhouette_score(X_tfidf, agg_labels)\n",
        "print(\"TF-IDF + Agglomerative Clustering Silhouette Score:\", agg_score)\n"
      ],
      "metadata": {
        "colab": {
          "base_uri": "https://localhost:8080/"
        },
        "id": "-GzOl1Jm0zH5",
        "outputId": "ffe2cd7e-c285-4389-d288-7cee1e6e308c"
      },
      "execution_count": 29,
      "outputs": [
        {
          "output_type": "stream",
          "name": "stdout",
          "text": [
            "TF-IDF + Agglomerative Clustering Silhouette Score: 0.15588352316631496\n"
          ]
        }
      ]
    },
    {
      "cell_type": "code",
      "source": [
        "agg_sbert = AgglomerativeClustering(n_clusters=5)\n",
        "agg_sbert_labels = agg_sbert.fit_predict(sbert_embeddings)\n",
        "\n",
        "agg_sbert_score = silhouette_score(sbert_embeddings, agg_sbert_labels)\n",
        "print(\"SBERT + Agglomerative Clustering Silhouette Score:\", agg_sbert_score)\n"
      ],
      "metadata": {
        "colab": {
          "base_uri": "https://localhost:8080/"
        },
        "id": "ebTEG9i501PY",
        "outputId": "9a4257f3-0185-4c4b-d4a3-bcc4ff92e5a2"
      },
      "execution_count": 30,
      "outputs": [
        {
          "output_type": "stream",
          "name": "stdout",
          "text": [
            "SBERT + Agglomerative Clustering Silhouette Score: 0.16733284\n"
          ]
        }
      ]
    },
    {
      "cell_type": "code",
      "source": [
        "from sentence_transformers import SentenceTransformer\n",
        "import umap\n",
        "from sklearn.cluster import KMeans\n",
        "from sklearn.metrics import silhouette_score\n",
        "import pandas as pd\n",
        "\n",
        "# Load your data\n",
        "# Make sure 'data' has a column 'text'\n",
        "# Example: data = pd.read_csv(\"your_dataset.csv\")\n",
        "\n",
        "# Step 1: SBERT Embeddings\n",
        "model = SentenceTransformer('all-MiniLM-L6-v2')\n",
        "sbert_embeddings = model.encode(data['text'].tolist(), show_progress_bar=True)\n",
        "\n",
        "# Step 2: UMAP Dimensionality Reduction\n",
        "umap_model = umap.UMAP(n_neighbors=15, n_components=2, min_dist=0.1, metric='cosine', random_state=42)\n",
        "umap_embeddings = umap_model.fit_transform(sbert_embeddings)\n",
        "\n",
        "# Step 3: KMeans Clustering\n",
        "kmeans = KMeans(n_clusters=5, random_state=42)\n",
        "kmeans_labels = kmeans.fit_predict(umap_embeddings)\n",
        "\n",
        "# Silhouette Score\n",
        "sil_score = silhouette_score(umap_embeddings, kmeans_labels)\n",
        "print(f\"\\nSilhouette Score (SBERT + UMAP + KMeans): {sil_score:.3f}\")\n"
      ],
      "metadata": {
        "colab": {
          "base_uri": "https://localhost:8080/",
          "height": 118,
          "referenced_widgets": [
            "6e1078248a454713ad1db944b3b96532",
            "f707501671834cda989360fced17519b",
            "0dd92fdd079f418492d952a309816943",
            "ad9244b2742d480fbea2111cafd44be5",
            "e0dc9f02ff684c65b61939909db36fec",
            "d6c4637f5ee04fc1ad27602ca20f07f0",
            "63f45116e6554ce7a324bef25ebf6488",
            "70971272dfee434690f9e6ed703cfb95",
            "e1c3a1b6f5c141bca2c2102d72b24125",
            "be3bb7b8a40f4eba9c83c61019ca8df3",
            "34bb4e38fc864fd48a12e8f9f0c32bfc"
          ]
        },
        "id": "oYR705ek2LKG",
        "outputId": "bf4d5e80-9775-4f7d-c2fb-bb0028581b1c"
      },
      "execution_count": 31,
      "outputs": [
        {
          "output_type": "display_data",
          "data": {
            "text/plain": [
              "Batches:   0%|          | 0/2 [00:00<?, ?it/s]"
            ],
            "application/vnd.jupyter.widget-view+json": {
              "version_major": 2,
              "version_minor": 0,
              "model_id": "6e1078248a454713ad1db944b3b96532"
            }
          },
          "metadata": {}
        },
        {
          "output_type": "stream",
          "name": "stdout",
          "text": [
            "\n",
            "Silhouette Score (SBERT + UMAP + KMeans): 0.489\n"
          ]
        },
        {
          "output_type": "stream",
          "name": "stderr",
          "text": [
            "/usr/local/lib/python3.11/dist-packages/umap/umap_.py:1952: UserWarning: n_jobs value 1 overridden to 1 by setting random_state. Use no seed for parallelism.\n",
            "  warn(\n"
          ]
        }
      ]
    },
    {
      "cell_type": "code",
      "source": [
        "import matplotlib.pyplot as plt\n",
        "import seaborn as sns\n",
        "\n",
        "plt.figure(figsize=(10, 6))\n",
        "sns.scatterplot(x=umap_embeddings[:, 0], y=umap_embeddings[:, 1], hue=kmeans_labels, palette='tab10', s=50)\n",
        "plt.title('SBERT + UMAP + KMeans Clusters', fontsize=14)\n",
        "plt.xlabel('UMAP-1')\n",
        "plt.ylabel('UMAP-2')\n",
        "plt.legend(title='Cluster', bbox_to_anchor=(1.05, 1), loc='upper left')\n",
        "plt.tight_layout()\n",
        "plt.show()\n"
      ],
      "metadata": {
        "colab": {
          "base_uri": "https://localhost:8080/",
          "height": 607
        },
        "id": "sHurAH5n2wiP",
        "outputId": "c368b1fe-46e9-4493-894e-749b428fe9c9"
      },
      "execution_count": 32,
      "outputs": [
        {
          "output_type": "display_data",
          "data": {
            "text/plain": [
              "<Figure size 1000x600 with 1 Axes>"
            ],
            "image/png": "[encoded data removed]"
          },
          "metadata": {}
        }
      ]
    },
    {
      "cell_type": "code",
      "source": [
        "data['cluster'] = kmeans_labels\n",
        "\n",
        "for i in sorted(data['cluster'].unique()):\n",
        "    print(f\"\\n🌀 Cluster {i} - Sample texts:\")\n",
        "    print(\"\\n\".join(data[data['cluster'] == i]['text'].iloc[:3].tolist()))\n"
      ],
      "metadata": {
        "colab": {
          "base_uri": "https://localhost:8080/"
        },
        "id": "6YG6CbVI209_",
        "outputId": "b48bbbae-30c9-41ef-b7cc-7dfc70d5f6b3"
      },
      "execution_count": 33,
      "outputs": [
        {
          "output_type": "stream",
          "name": "stdout",
          "text": [
            "\n",
            "🌀 Cluster 0 - Sample texts:\n",
            "Do you have any showrooms in Delhi state\n",
            "Do you accept Paisa EMI card\n",
            "what about emi options\n",
            "\n",
            "🌀 Cluster 1 - Sample texts:\n",
            "Custom size\n",
            "Help me with the size chart\n",
            "Customise size\n",
            "\n",
            "🌀 Cluster 2 - Sample texts:\n",
            "Difference between the products\n",
            "What is 100 Night trial offer\n",
            "Interested in buying\n",
            "\n",
            "🌀 Cluster 3 - Sample texts:\n",
            "Can I try a mattress first\n",
            "Tell me about SOF Ortho mattress\n",
            "What are the key features of the SOF Ortho mattress\n",
            "\n",
            "🌀 Cluster 4 - Sample texts:\n",
            "Arrange a call back\n",
            "Process of cancelling order\n",
            "I did not receive my order yet\n"
          ]
        }
      ]
    },
    {
      "cell_type": "code",
      "source": [
        "from sklearn.feature_extraction.text import TfidfVectorizer\n",
        "import numpy as np\n",
        "\n",
        "vectorizer = TfidfVectorizer(stop_words='english', max_features=1000)\n",
        "X_tfidf = vectorizer.fit_transform(data['text'])\n",
        "\n",
        "def get_top_keywords(tfidf_matrix, cluster_labels, features, top_n=5):\n",
        "    for cluster_num in np.unique(cluster_labels):\n",
        "        cluster_idx = np.where(cluster_labels == cluster_num)\n",
        "        mean_tfidf = np.mean(tfidf_matrix[cluster_idx], axis=0)\n",
        "        top_indices = np.array(mean_tfidf).flatten().argsort()[-top_n:][::-1]\n",
        "        keywords = [features[i] for i in top_indices]\n",
        "        print(f\"\\nCluster {cluster_num} Keywords: {keywords}\")\n",
        "\n",
        "get_top_keywords(X_tfidf, kmeans_labels, vectorizer.get_feature_names_out())\n"
      ],
      "metadata": {
        "colab": {
          "base_uri": "https://localhost:8080/"
        },
        "id": "3Mn9xcC624WK",
        "outputId": "fda56049-3ef9-435f-aa19-cdcd593f7ba0"
      },
      "execution_count": 34,
      "outputs": [
        {
          "output_type": "stream",
          "name": "stdout",
          "text": [
            "\n",
            "Cluster 0 Keywords: ['emi', 'paisa', 'want', 'installment', 'options']\n",
            "\n",
            "Cluster 1 Keywords: ['pillows', 'size', 'available', 'customise', 'help']\n",
            "\n",
            "Cluster 2 Keywords: ['want', 'cost', 'buy', 'know', 'product']\n",
            "\n",
            "Cluster 3 Keywords: ['mattress', 'sof', 'features', 'ergo', 'cost']\n",
            "\n",
            "Cluster 4 Keywords: ['order', 'status', 'arrange', 'track', 'receive']\n"
          ]
        }
      ]
    },
    {
      "cell_type": "code",
      "source": [
        "\n",
        "\n",
        "import numpy as np\n",
        "import pandas as pd\n",
        "import matplotlib.pyplot as plt\n",
        "import seaborn as sns\n",
        "\n",
        "from sklearn.cluster import KMeans\n",
        "from sklearn.metrics import silhouette_score\n",
        "from sklearn.feature_extraction.text import TfidfVectorizer\n",
        "from sentence_transformers import SentenceTransformer\n",
        "import umap\n",
        "\n",
        "# -----------------------------\n",
        "# STEP 1: Input Your Data\n",
        "# -----------------------------\n",
        "texts = [\n",
        "    # Add your text data here (list of strings)\n",
        "    \"Machine learning is amazing.\",\n",
        "    \"Deep learning enables many AI applications.\",\n",
        "    \"I love eating pizza and pasta.\",\n",
        "    \"Spaghetti is my favorite food.\",\n",
        "    \"The stock market is unpredictable.\",\n",
        "    \"Investing can be risky but rewarding.\",\n",
        "    \"Cats are cute animals.\",\n",
        "    \"Dogs are loyal companions.\"\n",
        "]\n",
        "\n",
        "# -----------------------------\n",
        "# STEP 2: Embed with Sentence-BERT\n",
        "# -----------------------------\n",
        "print(\"🔍 Generating SBERT embeddings...\")\n",
        "model = SentenceTransformer('all-MiniLM-L6-v2')\n",
        "sbert_embeddings = model.encode(texts, show_progress_bar=True)\n",
        "\n",
        "# -----------------------------\n",
        "# STEP 3: UMAP Dimensionality Reduction\n",
        "# -----------------------------\n",
        "print(\"📉 Applying UMAP for dimensionality reduction...\")\n",
        "umap_reducer = umap.UMAP(n_neighbors=15, n_components=5, metric='cosine')\n",
        "umap_embeddings = umap_reducer.fit_transform(sbert_embeddings)\n",
        "\n",
        "# -----------------------------\n",
        "# STEP 4: KMeans Clustering\n",
        "# -----------------------------\n",
        "print(\"🔗 Clustering with KMeans...\")\n",
        "num_clusters = 4  # Change this based on your use-case\n",
        "kmeans = KMeans(n_clusters=num_clusters, random_state=42)\n",
        "umap_labels = kmeans.fit_predict(umap_embeddings)\n",
        "\n",
        "sil_score = silhouette_score(umap_embeddings, umap_labels)\n",
        "print(f\"✅ Silhouette Score: {sil_score:.3f}\")\n",
        "\n",
        "# -----------------------------\n",
        "# STEP 5: 2D Visualization\n",
        "# -----------------------------\n",
        "print(\"📊 Visualizing clusters in 2D...\")\n",
        "umap_2d = umap.UMAP(n_neighbors=15, n_components=2, metric='cosine').fit_transform(sbert_embeddings)\n",
        "\n",
        "plt.figure(figsize=(10, 6))\n",
        "sns.scatterplot(x=umap_2d[:, 0], y=umap_2d[:, 1], hue=umap_labels, palette=\"tab10\")\n",
        "plt.title(\"SBERT + UMAP + KMeans Clustering\", fontsize=14)\n",
        "plt.xlabel(\"UMAP-1\"); plt.ylabel(\"UMAP-2\")\n",
        "plt.legend(title='Cluster')\n",
        "plt.tight_layout()\n",
        "plt.show()\n",
        "\n",
        "# -----------------------------\n",
        "# STEP 6: Cluster Keywords Extraction\n",
        "# -----------------------------\n",
        "def print_top_keywords(texts, labels, top_n=10):\n",
        "    tfidf = TfidfVectorizer(stop_words='english')\n",
        "    X = tfidf.fit_transform(texts)\n",
        "    terms = tfidf.get_feature_names_out()\n",
        "\n",
        "    for i in np.unique(labels):\n",
        "        cluster_texts = X[np.array(labels) == i]\n",
        "        mean_tfidf = np.asarray(cluster_texts.mean(axis=0)).flatten()\n",
        "        top_terms = mean_tfidf.argsort()[::-1][:top_n]\n",
        "        print(f\"\\n🔹 Cluster {i}: Top {top_n} keywords\")\n",
        "        for idx in top_terms:\n",
        "            print(f\"  - {terms[idx]}\")\n",
        "\n",
        "print_top_keywords(texts, umap_labels)\n",
        "\n",
        "# -----------------------------\n",
        "# STEP 7: Save Results\n",
        "# -----------------------------\n",
        "df = pd.DataFrame({'text': texts, 'cluster': umap_labels})\n",
        "df.to_csv(\"clustered_texts.csv\", index=False)\n",
        "print(\"\\n📁 Results saved to clustered_texts.csv\")\n",
        "\n",
        "\n"
      ],
      "metadata": {
        "colab": {
          "base_uri": "https://localhost:8080/",
          "height": 1000,
          "referenced_widgets": [
            "aaa5be79e02a4b6a94188c1e67ce8fc5",
            "06ad61d6926b4886b663a082f68ab36f",
            "3c34acc33b324ed0aec0fa2795f6c9f6",
            "23cd0abc476b4267ace2c879b2686d5b",
            "bc663397443c4a0780976fbeec1ae691",
            "c934f24c61e54d9488db589a3d4cda91",
            "962ca7d9a61a468786f40c9bceeaaabc",
            "9f233526dee344a4b1b11033fe3dcc60",
            "c90d41bac3df44109dc4abea36b8066c",
            "1a073898ceab457fa5352b3487553a01",
            "9d6c94acbbc5434aa3bf63e3c1d5cfb3"
          ]
        },
        "id": "r9HXcvq52_RY",
        "outputId": "b148459f-5c7a-495a-d00b-a29923c4dbb2"
      },
      "execution_count": 35,
      "outputs": [
        {
          "output_type": "stream",
          "name": "stdout",
          "text": [
            "🔍 Generating SBERT embeddings...\n"
          ]
        },
        {
          "output_type": "display_data",
          "data": {
            "text/plain": [
              "Batches:   0%|          | 0/1 [00:00<?, ?it/s]"
            ],
            "application/vnd.jupyter.widget-view+json": {
              "version_major": 2,
              "version_minor": 0,
              "model_id": "aaa5be79e02a4b6a94188c1e67ce8fc5"
            }
          },
          "metadata": {}
        },
        {
          "output_type": "stream",
          "name": "stdout",
          "text": [
            "📉 Applying UMAP for dimensionality reduction...\n",
            "🔗 Clustering with KMeans...\n",
            "✅ Silhouette Score: 0.258\n",
            "📊 Visualizing clusters in 2D...\n"
          ]
        },
        {
          "output_type": "stream",
          "name": "stderr",
          "text": [
            "/usr/local/lib/python3.11/dist-packages/umap/umap_.py:2462: UserWarning: n_neighbors is larger than the dataset size; truncating to X.shape[0] - 1\n",
            "  warn(\n",
            "/usr/local/lib/python3.11/dist-packages/umap/umap_.py:2462: UserWarning: n_neighbors is larger than the dataset size; truncating to X.shape[0] - 1\n",
            "  warn(\n"
          ]
        },
        {
          "output_type": "display_data",
          "data": {
            "text/plain": [
              "<Figure size 1000x600 with 1 Axes>"
            ],
            "image/png": "[encoded data removed]"
          },
          "metadata": {}
        },
        {
          "output_type": "stream",
          "name": "stdout",
          "text": [
            "\n",
            "🔹 Cluster 0: Top 10 keywords\n",
            "  - spaghetti\n",
            "  - food\n",
            "  - favorite\n",
            "  - eating\n",
            "  - pasta\n",
            "  - pizza\n",
            "  - love\n",
            "  - unpredictable\n",
            "  - stock\n",
            "  - risky\n",
            "\n",
            "🔹 Cluster 1: Top 10 keywords\n",
            "  - unpredictable\n",
            "  - stock\n",
            "  - risky\n",
            "  - rewarding\n",
            "  - market\n",
            "  - investing\n",
            "  - pizza\n",
            "  - pasta\n",
            "  - machine\n",
            "  - spaghetti\n",
            "\n",
            "🔹 Cluster 2: Top 10 keywords\n",
            "  - learning\n",
            "  - machine\n",
            "  - amazing\n",
            "  - deep\n",
            "  - enables\n",
            "  - ai\n",
            "  - applications\n",
            "  - spaghetti\n",
            "  - stock\n",
            "  - unpredictable\n",
            "\n",
            "🔹 Cluster 3: Top 10 keywords\n",
            "  - loyal\n",
            "  - dogs\n",
            "  - cute\n",
            "  - companions\n",
            "  - cats\n",
            "  - animals\n",
            "  - stock\n",
            "  - spaghetti\n",
            "  - rewarding\n",
            "  - unpredictable\n",
            "\n",
            "📁 Results saved to clustered_texts.csv\n"
          ]
        }
      ]
    },
    {
      "cell_type": "code",
      "source": [
        "import matplotlib.pyplot as plt\n",
        "import seaborn as sns\n",
        "\n",
        "# Reduce to 2D for visualization\n",
        "umap_2d = umap.UMAP(n_components=2, metric='cosine').fit_transform(sbert_embeddings)\n",
        "\n",
        "plt.figure(figsize=(10, 6))\n",
        "sns.scatterplot(x=umap_2d[:, 0], y=umap_2d[:, 1], hue=umap_labels, palette='tab10')\n",
        "plt.title(\"SBERT + UMAP + KMeans Clustering\")\n",
        "plt.xlabel(\"UMAP-1\")\n",
        "plt.ylabel(\"UMAP-2\")\n",
        "plt.legend(title=\"Cluster\")\n",
        "plt.show()\n"
      ],
      "metadata": {
        "colab": {
          "base_uri": "https://localhost:8080/",
          "height": 599
        },
        "id": "rfKUC2Cf3kDW",
        "outputId": "e8c12fc3-e45a-4166-f3b0-f42631890218"
      },
      "execution_count": 36,
      "outputs": [
        {
          "output_type": "stream",
          "name": "stderr",
          "text": [
            "/usr/local/lib/python3.11/dist-packages/umap/umap_.py:2462: UserWarning: n_neighbors is larger than the dataset size; truncating to X.shape[0] - 1\n",
            "  warn(\n"
          ]
        },
        {
          "output_type": "display_data",
          "data": {
            "text/plain": [
              "<Figure size 1000x600 with 1 Axes>"
            ],
            "image/png": "[encoded data removed]"
          },
          "metadata": {}
        }
      ]
    },
    {
      "cell_type": "code",
      "source": [
        "from sklearn.feature_extraction.text import TfidfVectorizer\n",
        "\n",
        "for cluster_num in set(umap_labels):\n",
        "    print(f\"\\nCluster {cluster_num}:\")\n",
        "    cluster_texts = [texts[i] for i in range(len(texts)) if umap_labels[i] == cluster_num]\n",
        "\n",
        "    vectorizer = TfidfVectorizer(stop_words='english', max_features=10)\n",
        "    tfidf = vectorizer.fit_transform(cluster_texts)\n",
        "    top_terms = vectorizer.get_feature_names_out()\n",
        "\n",
        "    print(\"Top terms:\", \", \".join(top_terms))\n",
        "    print(\"Sample text:\", cluster_texts[0])\n"
      ],
      "metadata": {
        "colab": {
          "base_uri": "https://localhost:8080/"
        },
        "id": "eJAugiji3lLO",
        "outputId": "9a3db7d0-1263-44dc-c60f-185a0b159225"
      },
      "execution_count": 37,
      "outputs": [
        {
          "output_type": "stream",
          "name": "stdout",
          "text": [
            "\n",
            "Cluster 0:\n",
            "Top terms: eating, favorite, food, love, pasta, pizza, spaghetti\n",
            "Sample text: I love eating pizza and pasta.\n",
            "\n",
            "Cluster 1:\n",
            "Top terms: investing, market, rewarding, risky, stock, unpredictable\n",
            "Sample text: The stock market is unpredictable.\n",
            "\n",
            "Cluster 2:\n",
            "Top terms: ai, amazing, applications, deep, enables, learning, machine\n",
            "Sample text: Machine learning is amazing.\n",
            "\n",
            "Cluster 3:\n",
            "Top terms: animals, cats, companions, cute, dogs, loyal\n",
            "Sample text: Cats are cute animals.\n"
          ]
        }
      ]
    },
    {
      "cell_type": "code",
      "source": [
        "import numpy as np\n",
        "\n",
        "# Save embeddings + labels for future use\n",
        "np.save(\"umap_embeddings.npy\", umap_embeddings)\n",
        "np.save(\"umap_kmeans_labels.npy\", umap_labels)\n"
      ],
      "metadata": {
        "id": "RiXWKb8y3u_2"
      },
      "execution_count": 38,
      "outputs": []
    }
  ]
}